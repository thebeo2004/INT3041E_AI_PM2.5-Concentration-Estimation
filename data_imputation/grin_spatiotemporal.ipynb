{
 "cells": [
  {
   "cell_type": "code",
   "execution_count": 1,
   "metadata": {
    "execution": {
     "iopub.execute_input": "2025-04-09T23:20:53.762818Z",
     "iopub.status.busy": "2025-04-09T23:20:53.762416Z",
     "iopub.status.idle": "2025-04-09T23:21:21.013661Z",
     "shell.execute_reply": "2025-04-09T23:21:21.012923Z",
     "shell.execute_reply.started": "2025-04-09T23:20:53.762786Z"
    },
    "trusted": true
   },
   "outputs": [
    {
     "name": "stdout",
     "output_type": "stream",
     "text": [
      ">>> Bước 1: Kiểm tra và cài đặt thư viện (nếu cần)...\n",
      "Đang cài đặt thư viện tsl và các phụ thuộc...\n",
      "Looking in links: https://data.pyg.org/whl/torch-2.5.1+cu121.html\n",
      "Collecting torch-scatter\n",
      "  Downloading https://data.pyg.org/whl/torch-2.5.0%2Bcu121/torch_scatter-2.1.2%2Bpt25cu121-cp310-cp310-linux_x86_64.whl (10.9 MB)\n",
      "\u001b[2K     \u001b[90m━━━━━━━━━━━━━━━━━━━━━━━━━━━━━━━━━━━━━━━━\u001b[0m \u001b[32m10.9/10.9 MB\u001b[0m \u001b[31m49.3 MB/s\u001b[0m eta \u001b[36m0:00:00\u001b[0m00:01\u001b[0m00:01\u001b[0m\n",
      "\u001b[?25hInstalling collected packages: torch-scatter\n",
      "Successfully installed torch-scatter-2.1.2+pt25cu121\n",
      "Looking in links: https://data.pyg.org/whl/torch-2.5.1+cu121.html\n",
      "Collecting torch-sparse\n",
      "  Downloading https://data.pyg.org/whl/torch-2.5.0%2Bcu121/torch_sparse-0.6.18%2Bpt25cu121-cp310-cp310-linux_x86_64.whl (5.1 MB)\n",
      "\u001b[2K     \u001b[90m━━━━━━━━━━━━━━━━━━━━━━━━━━━━━━━━━━━━━━━━\u001b[0m \u001b[32m5.1/5.1 MB\u001b[0m \u001b[31m21.0 MB/s\u001b[0m eta \u001b[36m0:00:00\u001b[0ma \u001b[36m0:00:01\u001b[0m\n",
      "\u001b[?25hRequirement already satisfied: scipy in /usr/local/lib/python3.10/dist-packages (from torch-sparse) (1.13.1)\n",
      "Requirement already satisfied: numpy<2.3,>=1.22.4 in /usr/local/lib/python3.10/dist-packages (from scipy->torch-sparse) (1.26.4)\n",
      "Requirement already satisfied: mkl_fft in /usr/local/lib/python3.10/dist-packages (from numpy<2.3,>=1.22.4->scipy->torch-sparse) (1.3.8)\n",
      "Requirement already satisfied: mkl_random in /usr/local/lib/python3.10/dist-packages (from numpy<2.3,>=1.22.4->scipy->torch-sparse) (1.2.4)\n",
      "Requirement already satisfied: mkl_umath in /usr/local/lib/python3.10/dist-packages (from numpy<2.3,>=1.22.4->scipy->torch-sparse) (0.1.1)\n",
      "Requirement already satisfied: mkl in /usr/local/lib/python3.10/dist-packages (from numpy<2.3,>=1.22.4->scipy->torch-sparse) (2025.0.1)\n",
      "Requirement already satisfied: tbb4py in /usr/local/lib/python3.10/dist-packages (from numpy<2.3,>=1.22.4->scipy->torch-sparse) (2022.0.0)\n",
      "Requirement already satisfied: mkl-service in /usr/local/lib/python3.10/dist-packages (from numpy<2.3,>=1.22.4->scipy->torch-sparse) (2.4.1)\n",
      "Requirement already satisfied: intel-openmp>=2024 in /usr/local/lib/python3.10/dist-packages (from mkl->numpy<2.3,>=1.22.4->scipy->torch-sparse) (2024.2.0)\n",
      "Requirement already satisfied: tbb==2022.* in /usr/local/lib/python3.10/dist-packages (from mkl->numpy<2.3,>=1.22.4->scipy->torch-sparse) (2022.0.0)\n",
      "Requirement already satisfied: tcmlib==1.* in /usr/local/lib/python3.10/dist-packages (from tbb==2022.*->mkl->numpy<2.3,>=1.22.4->scipy->torch-sparse) (1.2.0)\n",
      "Requirement already satisfied: intel-cmplr-lib-rt in /usr/local/lib/python3.10/dist-packages (from mkl_umath->numpy<2.3,>=1.22.4->scipy->torch-sparse) (2024.2.0)\n",
      "Requirement already satisfied: intel-cmplr-lib-ur==2024.2.0 in /usr/local/lib/python3.10/dist-packages (from intel-openmp>=2024->mkl->numpy<2.3,>=1.22.4->scipy->torch-sparse) (2024.2.0)\n",
      "Installing collected packages: torch-sparse\n",
      "Successfully installed torch-sparse-0.6.18+pt25cu121\n",
      "Collecting torch-geometric\n",
      "  Downloading torch_geometric-2.6.1-py3-none-any.whl.metadata (63 kB)\n",
      "\u001b[2K     \u001b[90m━━━━━━━━━━━━━━━━━━━━━━━━━━━━━━━━━━━━━━━━\u001b[0m \u001b[32m63.1/63.1 kB\u001b[0m \u001b[31m2.9 MB/s\u001b[0m eta \u001b[36m0:00:00\u001b[0m\n",
      "\u001b[?25hRequirement already satisfied: aiohttp in /usr/local/lib/python3.10/dist-packages (from torch-geometric) (3.11.12)\n",
      "Requirement already satisfied: fsspec in /usr/local/lib/python3.10/dist-packages (from torch-geometric) (2024.12.0)\n",
      "Requirement already satisfied: jinja2 in /usr/local/lib/python3.10/dist-packages (from torch-geometric) (3.1.4)\n",
      "Requirement already satisfied: numpy in /usr/local/lib/python3.10/dist-packages (from torch-geometric) (1.26.4)\n",
      "Requirement already satisfied: psutil>=5.8.0 in /usr/local/lib/python3.10/dist-packages (from torch-geometric) (5.9.5)\n",
      "Requirement already satisfied: pyparsing in /usr/local/lib/python3.10/dist-packages (from torch-geometric) (3.2.0)\n",
      "Requirement already satisfied: requests in /usr/local/lib/python3.10/dist-packages (from torch-geometric) (2.32.3)\n",
      "Requirement already satisfied: tqdm in /usr/local/lib/python3.10/dist-packages (from torch-geometric) (4.67.1)\n",
      "Requirement already satisfied: aiohappyeyeballs>=2.3.0 in /usr/local/lib/python3.10/dist-packages (from aiohttp->torch-geometric) (2.4.6)\n",
      "Requirement already satisfied: aiosignal>=1.1.2 in /usr/local/lib/python3.10/dist-packages (from aiohttp->torch-geometric) (1.3.2)\n",
      "Requirement already satisfied: async-timeout<6.0,>=4.0 in /usr/local/lib/python3.10/dist-packages (from aiohttp->torch-geometric) (5.0.1)\n",
      "Requirement already satisfied: attrs>=17.3.0 in /usr/local/lib/python3.10/dist-packages (from aiohttp->torch-geometric) (25.1.0)\n",
      "Requirement already satisfied: frozenlist>=1.1.1 in /usr/local/lib/python3.10/dist-packages (from aiohttp->torch-geometric) (1.5.0)\n",
      "Requirement already satisfied: multidict<7.0,>=4.5 in /usr/local/lib/python3.10/dist-packages (from aiohttp->torch-geometric) (6.1.0)\n",
      "Requirement already satisfied: propcache>=0.2.0 in /usr/local/lib/python3.10/dist-packages (from aiohttp->torch-geometric) (0.2.1)\n",
      "Requirement already satisfied: yarl<2.0,>=1.17.0 in /usr/local/lib/python3.10/dist-packages (from aiohttp->torch-geometric) (1.18.3)\n",
      "Requirement already satisfied: MarkupSafe>=2.0 in /usr/local/lib/python3.10/dist-packages (from jinja2->torch-geometric) (3.0.2)\n",
      "Requirement already satisfied: mkl_fft in /usr/local/lib/python3.10/dist-packages (from numpy->torch-geometric) (1.3.8)\n",
      "Requirement already satisfied: mkl_random in /usr/local/lib/python3.10/dist-packages (from numpy->torch-geometric) (1.2.4)\n",
      "Requirement already satisfied: mkl_umath in /usr/local/lib/python3.10/dist-packages (from numpy->torch-geometric) (0.1.1)\n",
      "Requirement already satisfied: mkl in /usr/local/lib/python3.10/dist-packages (from numpy->torch-geometric) (2025.0.1)\n",
      "Requirement already satisfied: tbb4py in /usr/local/lib/python3.10/dist-packages (from numpy->torch-geometric) (2022.0.0)\n",
      "Requirement already satisfied: mkl-service in /usr/local/lib/python3.10/dist-packages (from numpy->torch-geometric) (2.4.1)\n",
      "Requirement already satisfied: charset-normalizer<4,>=2 in /usr/local/lib/python3.10/dist-packages (from requests->torch-geometric) (3.4.1)\n",
      "Requirement already satisfied: idna<4,>=2.5 in /usr/local/lib/python3.10/dist-packages (from requests->torch-geometric) (3.10)\n",
      "Requirement already satisfied: urllib3<3,>=1.21.1 in /usr/local/lib/python3.10/dist-packages (from requests->torch-geometric) (2.3.0)\n",
      "Requirement already satisfied: certifi>=2017.4.17 in /usr/local/lib/python3.10/dist-packages (from requests->torch-geometric) (2025.1.31)\n",
      "Requirement already satisfied: typing-extensions>=4.1.0 in /usr/local/lib/python3.10/dist-packages (from multidict<7.0,>=4.5->aiohttp->torch-geometric) (4.12.2)\n",
      "Requirement already satisfied: intel-openmp>=2024 in /usr/local/lib/python3.10/dist-packages (from mkl->numpy->torch-geometric) (2024.2.0)\n",
      "Requirement already satisfied: tbb==2022.* in /usr/local/lib/python3.10/dist-packages (from mkl->numpy->torch-geometric) (2022.0.0)\n",
      "Requirement already satisfied: tcmlib==1.* in /usr/local/lib/python3.10/dist-packages (from tbb==2022.*->mkl->numpy->torch-geometric) (1.2.0)\n",
      "Requirement already satisfied: intel-cmplr-lib-rt in /usr/local/lib/python3.10/dist-packages (from mkl_umath->numpy->torch-geometric) (2024.2.0)\n",
      "Requirement already satisfied: intel-cmplr-lib-ur==2024.2.0 in /usr/local/lib/python3.10/dist-packages (from intel-openmp>=2024->mkl->numpy->torch-geometric) (2024.2.0)\n",
      "Downloading torch_geometric-2.6.1-py3-none-any.whl (1.1 MB)\n",
      "\u001b[2K   \u001b[90m━━━━━━━━━━━━━━━━━━━━━━━━━━━━━━━━━━━━━━━━\u001b[0m \u001b[32m1.1/1.1 MB\u001b[0m \u001b[31m21.6 MB/s\u001b[0m eta \u001b[36m0:00:00\u001b[0ma \u001b[36m0:00:01\u001b[0m\n",
      "\u001b[?25hInstalling collected packages: torch-geometric\n",
      "Successfully installed torch-geometric-2.6.1\n",
      "Collecting torch-spatiotemporal\n",
      "  Downloading torch_spatiotemporal-0.9.5-py3-none-any.whl.metadata (12 kB)\n",
      "Requirement already satisfied: einops in /usr/local/lib/python3.10/dist-packages (from torch-spatiotemporal) (0.8.0)\n",
      "Requirement already satisfied: numpy>1.20.3 in /usr/local/lib/python3.10/dist-packages (from torch-spatiotemporal) (1.26.4)\n",
      "Requirement already satisfied: pandas>=1.4 in /usr/local/lib/python3.10/dist-packages (from torch-spatiotemporal) (2.2.3)\n",
      "Requirement already satisfied: pytorch-lightning>=1.8 in /usr/local/lib/python3.10/dist-packages (from torch-spatiotemporal) (2.5.0.post0)\n",
      "Requirement already satisfied: PyYAML in /usr/local/lib/python3.10/dist-packages (from torch-spatiotemporal) (6.0.2)\n",
      "Requirement already satisfied: scikit-learn in /usr/local/lib/python3.10/dist-packages (from torch-spatiotemporal) (1.2.2)\n",
      "Requirement already satisfied: scipy in /usr/local/lib/python3.10/dist-packages (from torch-spatiotemporal) (1.13.1)\n",
      "Requirement already satisfied: tables in /usr/local/lib/python3.10/dist-packages (from torch-spatiotemporal) (3.10.1)\n",
      "Requirement already satisfied: torchmetrics>=0.7 in /usr/local/lib/python3.10/dist-packages (from torch-spatiotemporal) (1.6.1)\n",
      "Requirement already satisfied: tqdm in /usr/local/lib/python3.10/dist-packages (from torch-spatiotemporal) (4.67.1)\n",
      "Requirement already satisfied: mkl_fft in /usr/local/lib/python3.10/dist-packages (from numpy>1.20.3->torch-spatiotemporal) (1.3.8)\n",
      "Requirement already satisfied: mkl_random in /usr/local/lib/python3.10/dist-packages (from numpy>1.20.3->torch-spatiotemporal) (1.2.4)\n",
      "Requirement already satisfied: mkl_umath in /usr/local/lib/python3.10/dist-packages (from numpy>1.20.3->torch-spatiotemporal) (0.1.1)\n",
      "Requirement already satisfied: mkl in /usr/local/lib/python3.10/dist-packages (from numpy>1.20.3->torch-spatiotemporal) (2025.0.1)\n",
      "Requirement already satisfied: tbb4py in /usr/local/lib/python3.10/dist-packages (from numpy>1.20.3->torch-spatiotemporal) (2022.0.0)\n",
      "Requirement already satisfied: mkl-service in /usr/local/lib/python3.10/dist-packages (from numpy>1.20.3->torch-spatiotemporal) (2.4.1)\n",
      "Requirement already satisfied: python-dateutil>=2.8.2 in /usr/local/lib/python3.10/dist-packages (from pandas>=1.4->torch-spatiotemporal) (2.9.0.post0)\n",
      "Requirement already satisfied: pytz>=2020.1 in /usr/local/lib/python3.10/dist-packages (from pandas>=1.4->torch-spatiotemporal) (2025.1)\n",
      "Requirement already satisfied: tzdata>=2022.7 in /usr/local/lib/python3.10/dist-packages (from pandas>=1.4->torch-spatiotemporal) (2025.1)\n",
      "Requirement already satisfied: torch>=2.1.0 in /usr/local/lib/python3.10/dist-packages (from pytorch-lightning>=1.8->torch-spatiotemporal) (2.5.1+cu121)\n",
      "Requirement already satisfied: fsspec>=2022.5.0 in /usr/local/lib/python3.10/dist-packages (from fsspec[http]>=2022.5.0->pytorch-lightning>=1.8->torch-spatiotemporal) (2024.12.0)\n",
      "Requirement already satisfied: packaging>=20.0 in /usr/local/lib/python3.10/dist-packages (from pytorch-lightning>=1.8->torch-spatiotemporal) (24.2)\n",
      "Requirement already satisfied: typing-extensions>=4.4.0 in /usr/local/lib/python3.10/dist-packages (from pytorch-lightning>=1.8->torch-spatiotemporal) (4.12.2)\n",
      "Requirement already satisfied: lightning-utilities>=0.10.0 in /usr/local/lib/python3.10/dist-packages (from pytorch-lightning>=1.8->torch-spatiotemporal) (0.12.0)\n",
      "Requirement already satisfied: joblib>=1.1.1 in /usr/local/lib/python3.10/dist-packages (from scikit-learn->torch-spatiotemporal) (1.4.2)\n",
      "Requirement already satisfied: threadpoolctl>=2.0.0 in /usr/local/lib/python3.10/dist-packages (from scikit-learn->torch-spatiotemporal) (3.5.0)\n",
      "Requirement already satisfied: numexpr>=2.6.2 in /usr/local/lib/python3.10/dist-packages (from tables->torch-spatiotemporal) (2.10.2)\n",
      "Requirement already satisfied: py-cpuinfo in /usr/local/lib/python3.10/dist-packages (from tables->torch-spatiotemporal) (9.0.0)\n",
      "Requirement already satisfied: blosc2>=2.3.0 in /usr/local/lib/python3.10/dist-packages (from tables->torch-spatiotemporal) (2.7.1)\n",
      "Requirement already satisfied: ndindex>=1.4 in /usr/local/lib/python3.10/dist-packages (from blosc2>=2.3.0->tables->torch-spatiotemporal) (1.9.2)\n",
      "Requirement already satisfied: msgpack in /usr/local/lib/python3.10/dist-packages (from blosc2>=2.3.0->tables->torch-spatiotemporal) (1.1.0)\n",
      "Requirement already satisfied: aiohttp!=4.0.0a0,!=4.0.0a1 in /usr/local/lib/python3.10/dist-packages (from fsspec[http]>=2022.5.0->pytorch-lightning>=1.8->torch-spatiotemporal) (3.11.12)\n",
      "Requirement already satisfied: setuptools in /usr/local/lib/python3.10/dist-packages (from lightning-utilities>=0.10.0->pytorch-lightning>=1.8->torch-spatiotemporal) (75.1.0)\n",
      "Requirement already satisfied: six>=1.5 in /usr/local/lib/python3.10/dist-packages (from python-dateutil>=2.8.2->pandas>=1.4->torch-spatiotemporal) (1.17.0)\n",
      "Requirement already satisfied: filelock in /usr/local/lib/python3.10/dist-packages (from torch>=2.1.0->pytorch-lightning>=1.8->torch-spatiotemporal) (3.17.0)\n",
      "Requirement already satisfied: networkx in /usr/local/lib/python3.10/dist-packages (from torch>=2.1.0->pytorch-lightning>=1.8->torch-spatiotemporal) (3.4.2)\n",
      "Requirement already satisfied: jinja2 in /usr/local/lib/python3.10/dist-packages (from torch>=2.1.0->pytorch-lightning>=1.8->torch-spatiotemporal) (3.1.4)\n",
      "Requirement already satisfied: sympy==1.13.1 in /usr/local/lib/python3.10/dist-packages (from torch>=2.1.0->pytorch-lightning>=1.8->torch-spatiotemporal) (1.13.1)\n",
      "Requirement already satisfied: mpmath<1.4,>=1.1.0 in /usr/local/lib/python3.10/dist-packages (from sympy==1.13.1->torch>=2.1.0->pytorch-lightning>=1.8->torch-spatiotemporal) (1.3.0)\n",
      "Requirement already satisfied: intel-openmp>=2024 in /usr/local/lib/python3.10/dist-packages (from mkl->numpy>1.20.3->torch-spatiotemporal) (2024.2.0)\n",
      "Requirement already satisfied: tbb==2022.* in /usr/local/lib/python3.10/dist-packages (from mkl->numpy>1.20.3->torch-spatiotemporal) (2022.0.0)\n",
      "Requirement already satisfied: tcmlib==1.* in /usr/local/lib/python3.10/dist-packages (from tbb==2022.*->mkl->numpy>1.20.3->torch-spatiotemporal) (1.2.0)\n",
      "Requirement already satisfied: intel-cmplr-lib-rt in /usr/local/lib/python3.10/dist-packages (from mkl_umath->numpy>1.20.3->torch-spatiotemporal) (2024.2.0)\n",
      "Requirement already satisfied: aiohappyeyeballs>=2.3.0 in /usr/local/lib/python3.10/dist-packages (from aiohttp!=4.0.0a0,!=4.0.0a1->fsspec[http]>=2022.5.0->pytorch-lightning>=1.8->torch-spatiotemporal) (2.4.6)\n",
      "Requirement already satisfied: aiosignal>=1.1.2 in /usr/local/lib/python3.10/dist-packages (from aiohttp!=4.0.0a0,!=4.0.0a1->fsspec[http]>=2022.5.0->pytorch-lightning>=1.8->torch-spatiotemporal) (1.3.2)\n",
      "Requirement already satisfied: async-timeout<6.0,>=4.0 in /usr/local/lib/python3.10/dist-packages (from aiohttp!=4.0.0a0,!=4.0.0a1->fsspec[http]>=2022.5.0->pytorch-lightning>=1.8->torch-spatiotemporal) (5.0.1)\n",
      "Requirement already satisfied: attrs>=17.3.0 in /usr/local/lib/python3.10/dist-packages (from aiohttp!=4.0.0a0,!=4.0.0a1->fsspec[http]>=2022.5.0->pytorch-lightning>=1.8->torch-spatiotemporal) (25.1.0)\n",
      "Requirement already satisfied: frozenlist>=1.1.1 in /usr/local/lib/python3.10/dist-packages (from aiohttp!=4.0.0a0,!=4.0.0a1->fsspec[http]>=2022.5.0->pytorch-lightning>=1.8->torch-spatiotemporal) (1.5.0)\n",
      "Requirement already satisfied: multidict<7.0,>=4.5 in /usr/local/lib/python3.10/dist-packages (from aiohttp!=4.0.0a0,!=4.0.0a1->fsspec[http]>=2022.5.0->pytorch-lightning>=1.8->torch-spatiotemporal) (6.1.0)\n",
      "Requirement already satisfied: propcache>=0.2.0 in /usr/local/lib/python3.10/dist-packages (from aiohttp!=4.0.0a0,!=4.0.0a1->fsspec[http]>=2022.5.0->pytorch-lightning>=1.8->torch-spatiotemporal) (0.2.1)\n",
      "Requirement already satisfied: yarl<2.0,>=1.17.0 in /usr/local/lib/python3.10/dist-packages (from aiohttp!=4.0.0a0,!=4.0.0a1->fsspec[http]>=2022.5.0->pytorch-lightning>=1.8->torch-spatiotemporal) (1.18.3)\n",
      "Requirement already satisfied: intel-cmplr-lib-ur==2024.2.0 in /usr/local/lib/python3.10/dist-packages (from intel-openmp>=2024->mkl->numpy>1.20.3->torch-spatiotemporal) (2024.2.0)\n",
      "Requirement already satisfied: MarkupSafe>=2.0 in /usr/local/lib/python3.10/dist-packages (from jinja2->torch>=2.1.0->pytorch-lightning>=1.8->torch-spatiotemporal) (3.0.2)\n",
      "Requirement already satisfied: idna>=2.0 in /usr/local/lib/python3.10/dist-packages (from yarl<2.0,>=1.17.0->aiohttp!=4.0.0a0,!=4.0.0a1->fsspec[http]>=2022.5.0->pytorch-lightning>=1.8->torch-spatiotemporal) (3.10)\n",
      "Downloading torch_spatiotemporal-0.9.5-py3-none-any.whl (253 kB)\n",
      "\u001b[2K   \u001b[90m━━━━━━━━━━━━━━━━━━━━━━━━━━━━━━━━━━━━━━━━\u001b[0m \u001b[32m253.0/253.0 kB\u001b[0m \u001b[31m6.4 MB/s\u001b[0m eta \u001b[36m0:00:00\u001b[0ma \u001b[36m0:00:01\u001b[0m\n",
      "\u001b[?25hInstalling collected packages: torch-spatiotemporal\n",
      "Successfully installed torch-spatiotemporal-0.9.5\n",
      "Cài đặt hoàn tất.\n"
     ]
    }
   ],
   "source": [
    "import pandas as pd\n",
    "import numpy as np\n",
    "import torch\n",
    "from scipy.spatial.distance import cdist\n",
    "import os # Để tạo thư mục logs\n",
    "\n",
    "# --- Phần 1: Cài đặt thư viện và Imports ---\n",
    "print(\">>> Bước 1: Kiểm tra và cài đặt thư viện (nếu cần)...\")\n",
    "try:\n",
    "    from tsl.data import ImputationDataset, SpatioTemporalDataModule\n",
    "    from tsl.data.preprocessing import StandardScaler\n",
    "    from tsl.data.datamodule.splitters import TemporalSplitter\n",
    "    from tsl.nn.models import GRINModel\n",
    "    from tsl.metrics import numpy as numpy_metrics\n",
    "    from tsl.metrics import torch as torch_metrics\n",
    "    from tsl.engines import Imputer\n",
    "    from tsl.utils.casting import torch_to_numpy\n",
    "    print(\"Thư viện tsl đã được cài đặt.\")\n",
    "except ImportError:\n",
    "    print(\"Đang cài đặt thư viện tsl và các phụ thuộc...\")\n",
    "    # Lưu ý: Lệnh pip có thể cần điều chỉnh tùy thuộc môi trường (Colab, Kaggle, local)\n",
    "    # và phiên bản CUDA của bạn. Đây là ví dụ cho PyTorch 2.x và CUDA 12.1.\n",
    "    # Thay đổi '+cu121' nếu bạn dùng phiên bản CUDA khác hoặc CPU.\n",
    "    !pip install torch-scatter -f https://data.pyg.org/whl/torch-2.5.1+cu121.html\n",
    "    !pip install torch-sparse -f https://data.pyg.org/whl/torch-2.5.1+cu121.html\n",
    "    !pip install torch-geometric\n",
    "    !pip install torch-spatiotemporal\n",
    "    print(\"Cài đặt hoàn tất.\")\n",
    "    # Import lại sau khi cài đặt\n",
    "    from tsl.data import ImputationDataset, SpatioTemporalDataModule\n",
    "    from tsl.data.preprocessing import StandardScaler\n",
    "    from tsl.data.datamodule.splitters import TemporalSplitter\n",
    "    from tsl.nn.models import GRINModel\n",
    "    from tsl.metrics import numpy as numpy_metrics\n",
    "    from tsl.metrics import torch as torch_metrics\n",
    "    from tsl.engines import Imputer\n",
    "    from tsl.utils.casting import torch_to_numpy\n",
    "\n",
    "from torch.utils.data import DataLoader # Import DataLoader chuẩn\n",
    "from pytorch_lightning import Trainer\n",
    "from pytorch_lightning.loggers import TensorBoardLogger\n",
    "from pytorch_lightning.callbacks import EarlyStopping, ModelCheckpoint"
   ]
  },
  {
   "cell_type": "code",
   "execution_count": 2,
   "metadata": {
    "execution": {
     "iopub.execute_input": "2025-04-09T23:21:21.015562Z",
     "iopub.status.busy": "2025-04-09T23:21:21.014991Z",
     "iopub.status.idle": "2025-04-09T23:21:21.232973Z",
     "shell.execute_reply": "2025-04-09T23:21:21.232368Z",
     "shell.execute_reply.started": "2025-04-09T23:21:21.015527Z"
    },
    "trusted": true
   },
   "outputs": [],
   "source": [
    "atmospheric_path = \"/kaggle/input/satellite-based-dataset/atmospheric_factors_df.csv\"\n",
    "atmospheric_factors_df = pd.read_csv(atmospheric_path)\n",
    "satellite_based_factors = ['CLOUD', 'CO', 'HCHO', 'NO2', 'O3', 'SO2', 'AAI']\n",
    "atmospheric_factors_df['date'] = pd.to_datetime(atmospheric_factors_df['date'])"
   ]
  },
  {
   "cell_type": "code",
   "execution_count": 3,
   "metadata": {
    "execution": {
     "iopub.execute_input": "2025-04-09T23:21:21.234974Z",
     "iopub.status.busy": "2025-04-09T23:21:21.234661Z",
     "iopub.status.idle": "2025-04-09T23:21:21.244709Z",
     "shell.execute_reply": "2025-04-09T23:21:21.244006Z",
     "shell.execute_reply.started": "2025-04-09T23:21:21.234951Z"
    },
    "trusted": true
   },
   "outputs": [],
   "source": [
    "def convert_pivot_df(df: pd.DataFrame, factors=satellite_based_factors) -> pd.DataFrame:\n",
    "    \n",
    "    converted_df = df.melt(\n",
    "        id_vars=['date', 'ID'],\n",
    "        value_vars=factors,\n",
    "        var_name=\"satellite_based_factors\",\n",
    "        value_name=\"value\"\n",
    "    )\n",
    "    \n",
    "    pivot_df = converted_df.pivot_table(\n",
    "        index='date',\n",
    "        columns=['ID', \"satellite_based_factors\"],\n",
    "        values=\"value\",\n",
    "        fill_value=np.nan,\n",
    "        dropna=False\n",
    "    )\n",
    "    \n",
    "    return pivot_df\n",
    "\n",
    "def calculate_adj_matrix(df: pd.DataFrame) -> tuple:\n",
    "    station_ids = df['ID'].unique()\n",
    "    coord_list = []\n",
    "\n",
    "    for id in station_ids:\n",
    "        id_coord = list(df.loc[df['ID'] == id][['lon', 'lat']].iloc[0])\n",
    "        coord_list.append(id_coord)\n",
    "\n",
    "    # Tính khoảng cách giữa các trạm\n",
    "    distances = cdist(coord_list, coord_list, metric=\"euclidean\")\n",
    "\n",
    "    # Thêm epsilon nhỏ để tránh chia cho 0\n",
    "    epsilon = 1e-10\n",
    "\n",
    "    # Trích xuất edge index\n",
    "    edge_index = np.array(np.nonzero(distances))\n",
    "\n",
    "    # Tính edge weight dựa trên nghịch đảo khoảng cách\n",
    "    edge_weight = 1.0 / (distances[edge_index[0], edge_index[1]] + epsilon)\n",
    "\n",
    "    # Chuẩn hóa theo từng node một cách an toàn\n",
    "    for i in range(len(station_ids)):\n",
    "        mask = (edge_index[0] == i)\n",
    "        if mask.sum() > 0:\n",
    "            weight_sum = edge_weight[mask].sum()\n",
    "            if weight_sum > epsilon:  # Tránh chia cho giá trị gần bằng 0\n",
    "                edge_weight[mask] = edge_weight[mask] / weight_sum\n",
    "\n",
    "    return edge_index, edge_weight.astype(np.float32)\n",
    "\n",
    "def calculate_mask_matrix(pivot_df: pd.DataFrame) -> pd.DataFrame:\n",
    "    return (~pivot_df.isna()).astype(bool)\n",
    "\n",
    "def calculate_covariates(pivot_df: pd.DataFrame) -> pd.DataFrame:\n",
    "    # Sử dụng cả ngày và tháng làm đặc trưng phụ\n",
    "    day_features = pivot_df.index.day.values.reshape(-1, 1)\n",
    "    month_features = pivot_df.index.month.values.reshape(-1, 1)\n",
    "    return np.concatenate([day_features, month_features], axis=1)\n",
    "\n",
    "def create_balanced_eval_mask(pivot_df, ratio=0.4):\n",
    "    \"\"\"Tạo mask đánh giá cân bằng, chỉ sử dụng một phần dữ liệu không thiếu để đánh giá.\"\"\"\n",
    "\n",
    "    # Mask dữ liệu có sẵn\n",
    "    available_mask = ~pivot_df.isna()\n",
    "\n",
    "    # Tạo mask ngẫu nhiên với tỷ lệ ratio% dữ liệu có sẵn\n",
    "    np.random.seed(42)  # Đảm bảo tính tái lập\n",
    "    random_mask = np.random.rand(*available_mask.shape) < ratio\n",
    "\n",
    "    # Mask đánh giá chỉ bao gồm dữ liệu có sẵn\n",
    "    eval_mask = available_mask & random_mask\n",
    "\n",
    "    return eval_mask"
   ]
  },
  {
   "cell_type": "code",
   "execution_count": 4,
   "metadata": {
    "execution": {
     "iopub.execute_input": "2025-04-09T23:21:21.246146Z",
     "iopub.status.busy": "2025-04-09T23:21:21.245923Z",
     "iopub.status.idle": "2025-04-09T23:21:21.492955Z",
     "shell.execute_reply": "2025-04-09T23:21:21.492092Z",
     "shell.execute_reply.started": "2025-04-09T23:21:21.246128Z"
    },
    "trusted": true
   },
   "outputs": [
    {
     "name": "stdout",
     "output_type": "stream",
     "text": [
      "Số lượng giá trị có sẵn: 248005\n",
      "Số lượng giá trị dùng cho đánh giá: 49545\n",
      "Tỷ lệ đánh giá/có sẵn: 0.20\n"
     ]
    }
   ],
   "source": [
    "# Tạo pivot_df, adj và các mặt nạ\n",
    "pivot_df = convert_pivot_df(df=atmospheric_factors_df)\n",
    "adj = calculate_adj_matrix(df=atmospheric_factors_df)\n",
    "covariates = calculate_covariates(pivot_df)\n",
    "mask_matrix = calculate_mask_matrix(pivot_df)\n",
    "eval_mask = create_balanced_eval_mask(pivot_df, ratio=0.2)\n",
    "\n",
    "# Kiểm tra thông tin mask\n",
    "print(f\"Số lượng giá trị có sẵn: {mask_matrix.sum().sum()}\")\n",
    "print(f\"Số lượng giá trị dùng cho đánh giá: {eval_mask.sum().sum()}\")\n",
    "print(f\"Tỷ lệ đánh giá/có sẵn: {eval_mask.sum().sum() / mask_matrix.sum().sum():.2f}\")"
   ]
  },
  {
   "cell_type": "code",
   "execution_count": 5,
   "metadata": {
    "execution": {
     "iopub.execute_input": "2025-04-09T23:21:21.493991Z",
     "iopub.status.busy": "2025-04-09T23:21:21.493753Z",
     "iopub.status.idle": "2025-04-09T23:21:21.911573Z",
     "shell.execute_reply": "2025-04-09T23:21:21.910894Z",
     "shell.execute_reply.started": "2025-04-09T23:21:21.493964Z"
    },
    "trusted": true
   },
   "outputs": [
    {
     "name": "stdout",
     "output_type": "stream",
     "text": [
      "Cột (5, 'AAI'): 58 outlier được phát hiện\n",
      "Cột (5, 'CO'): 41 outlier được phát hiện\n",
      "Cột (5, 'HCHO'): 18 outlier được phát hiện\n",
      "Cột (5, 'NO2'): 33 outlier được phát hiện\n",
      "Cột (5, 'SO2'): 22 outlier được phát hiện\n",
      "Cột (19, 'AAI'): 48 outlier được phát hiện\n",
      "Cột (19, 'CO'): 32 outlier được phát hiện\n",
      "Cột (19, 'HCHO'): 19 outlier được phát hiện\n",
      "Cột (19, 'NO2'): 47 outlier được phát hiện\n",
      "Cột (19, 'O3'): 1 outlier được phát hiện\n",
      "Cột (19, 'SO2'): 24 outlier được phát hiện\n",
      "Cột (51, 'AAI'): 55 outlier được phát hiện\n",
      "Cột (51, 'CO'): 48 outlier được phát hiện\n",
      "Cột (51, 'HCHO'): 18 outlier được phát hiện\n",
      "Cột (51, 'NO2'): 32 outlier được phát hiện\n",
      "Cột (51, 'SO2'): 28 outlier được phát hiện\n",
      "Cột (52, 'AAI'): 61 outlier được phát hiện\n",
      "Cột (52, 'CO'): 35 outlier được phát hiện\n",
      "Cột (52, 'HCHO'): 19 outlier được phát hiện\n",
      "Cột (52, 'NO2'): 63 outlier được phát hiện\n",
      "Cột (52, 'SO2'): 24 outlier được phát hiện\n",
      "Cột (53, 'AAI'): 62 outlier được phát hiện\n",
      "Cột (53, 'CO'): 43 outlier được phát hiện\n",
      "Cột (53, 'HCHO'): 25 outlier được phát hiện\n",
      "Cột (53, 'NO2'): 43 outlier được phát hiện\n",
      "Cột (53, 'SO2'): 42 outlier được phát hiện\n",
      "Cột (54, 'AAI'): 64 outlier được phát hiện\n",
      "Cột (54, 'CO'): 37 outlier được phát hiện\n",
      "Cột (54, 'HCHO'): 21 outlier được phát hiện\n",
      "Cột (54, 'NO2'): 51 outlier được phát hiện\n",
      "Cột (54, 'SO2'): 18 outlier được phát hiện\n",
      "Cột (60, 'AAI'): 57 outlier được phát hiện\n",
      "Cột (60, 'CO'): 49 outlier được phát hiện\n",
      "Cột (60, 'HCHO'): 21 outlier được phát hiện\n",
      "Cột (60, 'NO2'): 46 outlier được phát hiện\n",
      "Cột (60, 'SO2'): 32 outlier được phát hiện\n",
      "Cột (62, 'AAI'): 66 outlier được phát hiện\n",
      "Cột (62, 'CO'): 41 outlier được phát hiện\n",
      "Cột (62, 'HCHO'): 24 outlier được phát hiện\n",
      "Cột (62, 'NO2'): 56 outlier được phát hiện\n",
      "Cột (62, 'SO2'): 45 outlier được phát hiện\n",
      "Cột (66, 'AAI'): 57 outlier được phát hiện\n",
      "Cột (66, 'CO'): 46 outlier được phát hiện\n",
      "Cột (66, 'HCHO'): 21 outlier được phát hiện\n",
      "Cột (66, 'NO2'): 39 outlier được phát hiện\n",
      "Cột (66, 'SO2'): 25 outlier được phát hiện\n",
      "Cột (71, 'AAI'): 56 outlier được phát hiện\n",
      "Cột (71, 'CO'): 37 outlier được phát hiện\n",
      "Cột (71, 'HCHO'): 24 outlier được phát hiện\n",
      "Cột (71, 'NO2'): 43 outlier được phát hiện\n",
      "Cột (71, 'SO2'): 32 outlier được phát hiện\n",
      "Cột (79, 'AAI'): 53 outlier được phát hiện\n",
      "Cột (79, 'CO'): 29 outlier được phát hiện\n",
      "Cột (79, 'HCHO'): 8 outlier được phát hiện\n",
      "Cột (79, 'NO2'): 27 outlier được phát hiện\n",
      "Cột (79, 'SO2'): 29 outlier được phát hiện\n",
      "Cột (155, 'AAI'): 58 outlier được phát hiện\n",
      "Cột (155, 'CO'): 46 outlier được phát hiện\n",
      "Cột (155, 'HCHO'): 28 outlier được phát hiện\n",
      "Cột (155, 'NO2'): 40 outlier được phát hiện\n",
      "Cột (155, 'SO2'): 32 outlier được phát hiện\n",
      "Cột (156, 'AAI'): 56 outlier được phát hiện\n",
      "Cột (156, 'CO'): 42 outlier được phát hiện\n",
      "Cột (156, 'HCHO'): 20 outlier được phát hiện\n",
      "Cột (156, 'NO2'): 32 outlier được phát hiện\n",
      "Cột (156, 'SO2'): 29 outlier được phát hiện\n",
      "Cột (157, 'AAI'): 54 outlier được phát hiện\n",
      "Cột (157, 'CO'): 41 outlier được phát hiện\n",
      "Cột (157, 'HCHO'): 15 outlier được phát hiện\n",
      "Cột (157, 'NO2'): 36 outlier được phát hiện\n",
      "Cột (157, 'SO2'): 29 outlier được phát hiện\n",
      "Cột (158, 'AAI'): 65 outlier được phát hiện\n",
      "Cột (158, 'CO'): 33 outlier được phát hiện\n",
      "Cột (158, 'HCHO'): 29 outlier được phát hiện\n",
      "Cột (158, 'NO2'): 59 outlier được phát hiện\n",
      "Cột (158, 'SO2'): 32 outlier được phát hiện\n",
      "Cột (159, 'AAI'): 60 outlier được phát hiện\n",
      "Cột (159, 'CO'): 41 outlier được phát hiện\n",
      "Cột (159, 'HCHO'): 20 outlier được phát hiện\n",
      "Cột (159, 'NO2'): 58 outlier được phát hiện\n",
      "Cột (159, 'SO2'): 29 outlier được phát hiện\n",
      "Cột (160, 'AAI'): 58 outlier được phát hiện\n",
      "Cột (160, 'CO'): 36 outlier được phát hiện\n",
      "Cột (160, 'HCHO'): 31 outlier được phát hiện\n",
      "Cột (160, 'NO2'): 53 outlier được phát hiện\n",
      "Cột (160, 'SO2'): 36 outlier được phát hiện\n",
      "Cột (161, 'AAI'): 57 outlier được phát hiện\n",
      "Cột (161, 'CO'): 43 outlier được phát hiện\n",
      "Cột (161, 'HCHO'): 25 outlier được phát hiện\n",
      "Cột (161, 'NO2'): 31 outlier được phát hiện\n",
      "Cột (161, 'SO2'): 29 outlier được phát hiện\n",
      "Cột (162, 'AAI'): 57 outlier được phát hiện\n",
      "Cột (162, 'CO'): 41 outlier được phát hiện\n",
      "Cột (162, 'HCHO'): 23 outlier được phát hiện\n",
      "Cột (162, 'NO2'): 37 outlier được phát hiện\n",
      "Cột (162, 'SO2'): 31 outlier được phát hiện\n",
      "Cột (163, 'AAI'): 56 outlier được phát hiện\n",
      "Cột (163, 'CO'): 36 outlier được phát hiện\n",
      "Cột (163, 'HCHO'): 20 outlier được phát hiện\n",
      "Cột (163, 'NO2'): 35 outlier được phát hiện\n",
      "Cột (163, 'SO2'): 22 outlier được phát hiện\n",
      "Cột (169, 'AAI'): 64 outlier được phát hiện\n",
      "Cột (169, 'CO'): 35 outlier được phát hiện\n",
      "Cột (169, 'HCHO'): 18 outlier được phát hiện\n",
      "Cột (169, 'NO2'): 56 outlier được phát hiện\n",
      "Cột (169, 'SO2'): 20 outlier được phát hiện\n",
      "Cột (172, 'AAI'): 60 outlier được phát hiện\n",
      "Cột (172, 'CO'): 39 outlier được phát hiện\n",
      "Cột (172, 'HCHO'): 16 outlier được phát hiện\n",
      "Cột (172, 'NO2'): 54 outlier được phát hiện\n",
      "Cột (172, 'SO2'): 25 outlier được phát hiện\n",
      "Cột (173, 'AAI'): 60 outlier được phát hiện\n",
      "Cột (173, 'CO'): 37 outlier được phát hiện\n",
      "Cột (173, 'HCHO'): 17 outlier được phát hiện\n",
      "Cột (173, 'NO2'): 48 outlier được phát hiện\n",
      "Cột (173, 'SO2'): 23 outlier được phát hiện\n",
      "Cột (175, 'AAI'): 59 outlier được phát hiện\n",
      "Cột (175, 'CO'): 35 outlier được phát hiện\n",
      "Cột (175, 'HCHO'): 15 outlier được phát hiện\n",
      "Cột (175, 'NO2'): 52 outlier được phát hiện\n",
      "Cột (175, 'SO2'): 21 outlier được phát hiện\n",
      "Cột (195, 'AAI'): 58 outlier được phát hiện\n",
      "Cột (195, 'CO'): 54 outlier được phát hiện\n",
      "Cột (195, 'HCHO'): 15 outlier được phát hiện\n",
      "Cột (195, 'NO2'): 35 outlier được phát hiện\n",
      "Cột (195, 'O3'): 2 outlier được phát hiện\n",
      "Cột (195, 'SO2'): 32 outlier được phát hiện\n",
      "Cột (300, 'AAI'): 58 outlier được phát hiện\n",
      "Cột (300, 'CO'): 41 outlier được phát hiện\n",
      "Cột (300, 'HCHO'): 18 outlier được phát hiện\n",
      "Cột (300, 'NO2'): 33 outlier được phát hiện\n",
      "Cột (300, 'SO2'): 22 outlier được phát hiện\n"
     ]
    }
   ],
   "source": [
    "# Kiểm tra các cột có phương sai bằng 0\n",
    "variances = pivot_df.var()\n",
    "zero_variance_cols = variances[variances == 0].index\n",
    "if not zero_variance_cols.empty:\n",
    "    print(f\"Cảnh báo: Có cột có phương sai bằng 0: {zero_variance_cols}\")\n",
    "    print(\"Thêm nhiễu nhỏ để tăng phương sai...\")\n",
    "\n",
    "    # Thêm nhiễu nhỏ vào cột có phương sai bằng 0\n",
    "    for col in zero_variance_cols:\n",
    "        mask = ~pivot_df[col].isna()\n",
    "        if mask.sum() > 0:\n",
    "            # Thêm nhiễu nhỏ vào giá trị không phải NaN\n",
    "            mean_val = pivot_df.loc[mask, col].mean()\n",
    "            pivot_df.loc[mask, col] += np.random.normal(0, 0.001, size=mask.sum())\n",
    "\n",
    "# Kiểm tra giá trị outlier\n",
    "for col in pivot_df.columns:\n",
    "    values = pivot_df[col].dropna()\n",
    "    if len(values) > 0:\n",
    "        q1, q3 = values.quantile([0.25, 0.75])\n",
    "        iqr = q3 - q1\n",
    "        lower_bound = q1 - 1.5 * iqr\n",
    "        upper_bound = q3 + 1.5 * iqr\n",
    "\n",
    "        # Đếm outlier\n",
    "        outliers = values[(values < lower_bound) | (values > upper_bound)]\n",
    "        if len(outliers) > 0:\n",
    "            print(f\"Cột {col}: {len(outliers)} outlier được phát hiện\")"
   ]
  },
  {
   "cell_type": "code",
   "execution_count": 6,
   "metadata": {
    "execution": {
     "iopub.execute_input": "2025-04-09T23:21:21.912599Z",
     "iopub.status.busy": "2025-04-09T23:21:21.912318Z",
     "iopub.status.idle": "2025-04-09T23:21:21.960142Z",
     "shell.execute_reply": "2025-04-09T23:21:21.959465Z",
     "shell.execute_reply.started": "2025-04-09T23:21:21.912577Z"
    },
    "trusted": true
   },
   "outputs": [],
   "source": [
    "# Tạo dataset dùng cho imputation\n",
    "imputation_dataset = ImputationDataset(\n",
    "    target=pivot_df,\n",
    "    eval_mask=eval_mask,  # Sử dụng mask được cân bằng\n",
    "    covariates={'time': covariates},  # Thêm đặc trưng thời gian\n",
    "    connectivity=adj,  # Sử dụng ma trận kề cải tiến\n",
    "    window=14,  # Giảm kích thước cửa sổ xuống\n",
    "    stride=1\n",
    ")"
   ]
  },
  {
   "cell_type": "code",
   "execution_count": 7,
   "metadata": {
    "execution": {
     "iopub.execute_input": "2025-04-09T23:21:21.961097Z",
     "iopub.status.busy": "2025-04-09T23:21:21.960849Z",
     "iopub.status.idle": "2025-04-09T23:21:22.014278Z",
     "shell.execute_reply": "2025-04-09T23:21:22.013609Z",
     "shell.execute_reply.started": "2025-04-09T23:21:21.961077Z"
    },
    "trusted": true
   },
   "outputs": [],
   "source": [
    "# Cấu hình datamodule với scale dữ liệu robust\n",
    "scalers = {'target': StandardScaler(axis=(0, 1))}\n",
    "\n",
    "splitter = TemporalSplitter(\n",
    "    val_len=0.1,\n",
    "    test_len=0.2\n",
    ")\n",
    "\n",
    "dm = SpatioTemporalDataModule(\n",
    "    dataset=imputation_dataset,\n",
    "    scalers=scalers,\n",
    "    splitter=splitter,\n",
    "    batch_size=64,  # Giảm kích thước batch để ổn định hơn\n",
    "    workers=4\n",
    ")\n",
    "dm.setup()"
   ]
  },
  {
   "cell_type": "code",
   "execution_count": 8,
   "metadata": {
    "execution": {
     "iopub.execute_input": "2025-04-09T23:21:22.016689Z",
     "iopub.status.busy": "2025-04-09T23:21:22.016477Z",
     "iopub.status.idle": "2025-04-09T23:21:22.170771Z",
     "shell.execute_reply": "2025-04-09T23:21:22.169662Z",
     "shell.execute_reply.started": "2025-04-09T23:21:22.016671Z"
    },
    "trusted": true
   },
   "outputs": [
    {
     "name": "stdout",
     "output_type": "stream",
     "text": [
      "Batch có 64 mẫu, số lượng giá trị True trong val_eval_mask: 22198\n",
      "Batch có 64 mẫu, số lượng giá trị True trong val_eval_mask: 21797\n",
      "Batch có 32 mẫu, số lượng giá trị True trong val_eval_mask: 11228\n"
     ]
    }
   ],
   "source": [
    "# Kiểm tra eval_mask trên batch từ val_dataloader\n",
    "val_dataloader = dm.val_dataloader()\n",
    "for batch in val_dataloader:\n",
    "    val_eval_mask = batch['eval_mask']\n",
    "    num_samples = val_eval_mask.shape[0]  # Số mẫu trong batch\n",
    "    num_true = val_eval_mask.sum().item()\n",
    "    print(f\"Batch có {num_samples} mẫu, số lượng giá trị True trong val_eval_mask: {num_true}\")\n",
    "\n",
    "    # Kiểm tra nếu có quá ít giá trị True\n",
    "    if num_true < 10:\n",
    "        print(\"CẢNH BÁO: Quá ít điểm đánh giá trong batch!\")\n",
    "    # break  # Chỉ kiểm tra batch đầu tiên"
   ]
  },
  {
   "cell_type": "code",
   "execution_count": 9,
   "metadata": {
    "execution": {
     "iopub.execute_input": "2025-04-09T23:21:22.172586Z",
     "iopub.status.busy": "2025-04-09T23:21:22.172337Z",
     "iopub.status.idle": "2025-04-09T23:21:22.184103Z",
     "shell.execute_reply": "2025-04-09T23:21:22.183399Z",
     "shell.execute_reply.started": "2025-04-09T23:21:22.172564Z"
    },
    "trusted": true
   },
   "outputs": [],
   "source": [
    "model_cls = GRINModel\n",
    "model_kwargs = dict(\n",
    "    n_nodes=imputation_dataset.n_nodes,\n",
    "    input_size=imputation_dataset.n_channels,\n",
    "    hidden_size=64,        # Tăng kích thước hidden để bắt xu hướng phức tạp\n",
    "    ff_size=128,           # Tăng feedforward size\n",
    "    embedding_size=8,      # Tăng kích thước embedding\n",
    "    n_layers=2,            # Thêm một lớp để tăng khả năng học\n",
    "    kernel_size=2,\n",
    "    decoder_order=1,\n",
    "    layer_norm=True,\n",
    "    dropout=0.1,           # Điều chỉnh dropout phù hợp\n",
    "    ff_dropout=0.1,\n",
    "    merge_mode='mlp'\n",
    ")\n",
    "\n",
    "loss_fn = torch_metrics.MaskedMAE()\n",
    "\n",
    "log_metrics = {\n",
    "    'mae': torch_metrics.MaskedMAE(),\n",
    "    'mse': torch_metrics.MaskedMSE(),\n",
    "    'mre': torch_metrics.MaskedMRE(),\n",
    "    'mape': torch_metrics.MaskedMAPE()\n",
    "}\n",
    "\n",
    "scheduler_class = torch.optim.lr_scheduler.CosineAnnealingLR\n",
    "epochs = 50  # Giảm số epoch\n",
    "scheduler_kwargs = dict(\n",
    "    eta_min=0.0001,\n",
    "    T_max=epochs\n",
    ")"
   ]
  },
  {
   "cell_type": "code",
   "execution_count": 10,
   "metadata": {
    "execution": {
     "iopub.execute_input": "2025-04-09T23:21:22.185047Z",
     "iopub.status.busy": "2025-04-09T23:21:22.184828Z",
     "iopub.status.idle": "2025-04-09T23:21:22.265819Z",
     "shell.execute_reply": "2025-04-09T23:21:22.265258Z",
     "shell.execute_reply.started": "2025-04-09T23:21:22.185005Z"
    },
    "trusted": true
   },
   "outputs": [],
   "source": [
    "imputer = Imputer(\n",
    "    model_class=model_cls,\n",
    "    model_kwargs=model_kwargs,\n",
    "    optim_class=torch.optim.Adam,\n",
    "    optim_kwargs={\n",
    "        \"lr\": 0.0005,          # Giảm learning rate\n",
    "        \"weight_decay\": 1e-4    # Tăng weight decay\n",
    "    },\n",
    "    loss_fn=loss_fn,\n",
    "    metrics=log_metrics,\n",
    "    scheduler_class=scheduler_class,\n",
    "    scheduler_kwargs=scheduler_kwargs,\n",
    "    scale_target=True,\n",
    "    whiten_prob=0.1,          # Tăng whiten_prob\n",
    "    prediction_loss_weight=1.0,\n",
    "    impute_only_missing=True,\n",
    "    warm_up_steps=10           # Thêm warm up steps\n",
    ")"
   ]
  },
  {
   "cell_type": "code",
   "execution_count": 11,
   "metadata": {
    "execution": {
     "iopub.execute_input": "2025-04-09T23:21:22.266829Z",
     "iopub.status.busy": "2025-04-09T23:21:22.266552Z",
     "iopub.status.idle": "2025-04-09T23:21:22.286378Z",
     "shell.execute_reply": "2025-04-09T23:21:22.285388Z",
     "shell.execute_reply.started": "2025-04-09T23:21:22.266809Z"
    },
    "trusted": true
   },
   "outputs": [],
   "source": [
    "logger = TensorBoardLogger(save_dir=\"logs\", name=\"imputation\")\n",
    "early_stop_callback = EarlyStopping(monitor=\"val_mae\", patience=15, mode=\"min\")\n",
    "checkpoint_callback = ModelCheckpoint(\n",
    "    dirpath=\"logs/imputation\",  # Sửa thành logs thay vì log\n",
    "    save_top_k=1,\n",
    "    monitor=\"val_mae\",\n",
    "    mode=\"min\"\n",
    ")\n",
    "\n",
    "callbacks = [early_stop_callback, checkpoint_callback]"
   ]
  },
  {
   "cell_type": "code",
   "execution_count": 12,
   "metadata": {
    "execution": {
     "iopub.execute_input": "2025-04-09T23:21:22.287499Z",
     "iopub.status.busy": "2025-04-09T23:21:22.287254Z",
     "iopub.status.idle": "2025-04-10T00:33:53.886779Z",
     "shell.execute_reply": "2025-04-10T00:33:53.885561Z",
     "shell.execute_reply.started": "2025-04-09T23:21:22.287480Z"
    },
    "trusted": true
   },
   "outputs": [
    {
     "name": "stderr",
     "output_type": "stream",
     "text": [
      "/usr/local/lib/python3.10/dist-packages/pytorch_lightning/callbacks/model_checkpoint.py:654: Checkpoint directory /kaggle/working/logs/imputation exists and is not empty.\n"
     ]
    },
    {
     "data": {
      "application/vnd.jupyter.widget-view+json": {
       "model_id": "",
       "version_major": 2,
       "version_minor": 0
      },
      "text/plain": [
       "Sanity Checking: |          | 0/? [00:00<?, ?it/s]"
      ]
     },
     "metadata": {},
     "output_type": "display_data"
    },
    {
     "name": "stderr",
     "output_type": "stream",
     "text": [
      "/usr/local/lib/python3.10/dist-packages/pytorch_lightning/loops/fit_loop.py:310: The number of training batches (24) is smaller than the logging interval Trainer(log_every_n_steps=50). Set a lower value for log_every_n_steps if you want to see logs for the training epoch.\n"
     ]
    },
    {
     "data": {
      "application/vnd.jupyter.widget-view+json": {
       "model_id": "a3b338f7e81042e4844c45c9eb68337e",
       "version_major": 2,
       "version_minor": 0
      },
      "text/plain": [
       "Training: |          | 0/? [00:00<?, ?it/s]"
      ]
     },
     "metadata": {},
     "output_type": "display_data"
    },
    {
     "data": {
      "application/vnd.jupyter.widget-view+json": {
       "model_id": "",
       "version_major": 2,
       "version_minor": 0
      },
      "text/plain": [
       "Validation: |          | 0/? [00:00<?, ?it/s]"
      ]
     },
     "metadata": {},
     "output_type": "display_data"
    },
    {
     "data": {
      "application/vnd.jupyter.widget-view+json": {
       "model_id": "",
       "version_major": 2,
       "version_minor": 0
      },
      "text/plain": [
       "Validation: |          | 0/? [00:00<?, ?it/s]"
      ]
     },
     "metadata": {},
     "output_type": "display_data"
    },
    {
     "data": {
      "application/vnd.jupyter.widget-view+json": {
       "model_id": "",
       "version_major": 2,
       "version_minor": 0
      },
      "text/plain": [
       "Validation: |          | 0/? [00:00<?, ?it/s]"
      ]
     },
     "metadata": {},
     "output_type": "display_data"
    },
    {
     "data": {
      "application/vnd.jupyter.widget-view+json": {
       "model_id": "",
       "version_major": 2,
       "version_minor": 0
      },
      "text/plain": [
       "Validation: |          | 0/? [00:00<?, ?it/s]"
      ]
     },
     "metadata": {},
     "output_type": "display_data"
    },
    {
     "data": {
      "application/vnd.jupyter.widget-view+json": {
       "model_id": "",
       "version_major": 2,
       "version_minor": 0
      },
      "text/plain": [
       "Validation: |          | 0/? [00:00<?, ?it/s]"
      ]
     },
     "metadata": {},
     "output_type": "display_data"
    },
    {
     "data": {
      "application/vnd.jupyter.widget-view+json": {
       "model_id": "",
       "version_major": 2,
       "version_minor": 0
      },
      "text/plain": [
       "Validation: |          | 0/? [00:00<?, ?it/s]"
      ]
     },
     "metadata": {},
     "output_type": "display_data"
    },
    {
     "data": {
      "application/vnd.jupyter.widget-view+json": {
       "model_id": "",
       "version_major": 2,
       "version_minor": 0
      },
      "text/plain": [
       "Validation: |          | 0/? [00:00<?, ?it/s]"
      ]
     },
     "metadata": {},
     "output_type": "display_data"
    },
    {
     "data": {
      "application/vnd.jupyter.widget-view+json": {
       "model_id": "",
       "version_major": 2,
       "version_minor": 0
      },
      "text/plain": [
       "Validation: |          | 0/? [00:00<?, ?it/s]"
      ]
     },
     "metadata": {},
     "output_type": "display_data"
    },
    {
     "data": {
      "application/vnd.jupyter.widget-view+json": {
       "model_id": "",
       "version_major": 2,
       "version_minor": 0
      },
      "text/plain": [
       "Validation: |          | 0/? [00:00<?, ?it/s]"
      ]
     },
     "metadata": {},
     "output_type": "display_data"
    },
    {
     "data": {
      "application/vnd.jupyter.widget-view+json": {
       "model_id": "",
       "version_major": 2,
       "version_minor": 0
      },
      "text/plain": [
       "Validation: |          | 0/? [00:00<?, ?it/s]"
      ]
     },
     "metadata": {},
     "output_type": "display_data"
    },
    {
     "data": {
      "application/vnd.jupyter.widget-view+json": {
       "model_id": "",
       "version_major": 2,
       "version_minor": 0
      },
      "text/plain": [
       "Validation: |          | 0/? [00:00<?, ?it/s]"
      ]
     },
     "metadata": {},
     "output_type": "display_data"
    },
    {
     "data": {
      "application/vnd.jupyter.widget-view+json": {
       "model_id": "",
       "version_major": 2,
       "version_minor": 0
      },
      "text/plain": [
       "Validation: |          | 0/? [00:00<?, ?it/s]"
      ]
     },
     "metadata": {},
     "output_type": "display_data"
    },
    {
     "data": {
      "application/vnd.jupyter.widget-view+json": {
       "model_id": "",
       "version_major": 2,
       "version_minor": 0
      },
      "text/plain": [
       "Validation: |          | 0/? [00:00<?, ?it/s]"
      ]
     },
     "metadata": {},
     "output_type": "display_data"
    },
    {
     "data": {
      "application/vnd.jupyter.widget-view+json": {
       "model_id": "",
       "version_major": 2,
       "version_minor": 0
      },
      "text/plain": [
       "Validation: |          | 0/? [00:00<?, ?it/s]"
      ]
     },
     "metadata": {},
     "output_type": "display_data"
    },
    {
     "data": {
      "application/vnd.jupyter.widget-view+json": {
       "model_id": "",
       "version_major": 2,
       "version_minor": 0
      },
      "text/plain": [
       "Validation: |          | 0/? [00:00<?, ?it/s]"
      ]
     },
     "metadata": {},
     "output_type": "display_data"
    },
    {
     "data": {
      "application/vnd.jupyter.widget-view+json": {
       "model_id": "",
       "version_major": 2,
       "version_minor": 0
      },
      "text/plain": [
       "Validation: |          | 0/? [00:00<?, ?it/s]"
      ]
     },
     "metadata": {},
     "output_type": "display_data"
    },
    {
     "data": {
      "application/vnd.jupyter.widget-view+json": {
       "model_id": "",
       "version_major": 2,
       "version_minor": 0
      },
      "text/plain": [
       "Validation: |          | 0/? [00:00<?, ?it/s]"
      ]
     },
     "metadata": {},
     "output_type": "display_data"
    },
    {
     "data": {
      "application/vnd.jupyter.widget-view+json": {
       "model_id": "",
       "version_major": 2,
       "version_minor": 0
      },
      "text/plain": [
       "Validation: |          | 0/? [00:00<?, ?it/s]"
      ]
     },
     "metadata": {},
     "output_type": "display_data"
    },
    {
     "data": {
      "application/vnd.jupyter.widget-view+json": {
       "model_id": "",
       "version_major": 2,
       "version_minor": 0
      },
      "text/plain": [
       "Validation: |          | 0/? [00:00<?, ?it/s]"
      ]
     },
     "metadata": {},
     "output_type": "display_data"
    },
    {
     "data": {
      "application/vnd.jupyter.widget-view+json": {
       "model_id": "",
       "version_major": 2,
       "version_minor": 0
      },
      "text/plain": [
       "Validation: |          | 0/? [00:00<?, ?it/s]"
      ]
     },
     "metadata": {},
     "output_type": "display_data"
    },
    {
     "data": {
      "application/vnd.jupyter.widget-view+json": {
       "model_id": "",
       "version_major": 2,
       "version_minor": 0
      },
      "text/plain": [
       "Validation: |          | 0/? [00:00<?, ?it/s]"
      ]
     },
     "metadata": {},
     "output_type": "display_data"
    },
    {
     "data": {
      "application/vnd.jupyter.widget-view+json": {
       "model_id": "",
       "version_major": 2,
       "version_minor": 0
      },
      "text/plain": [
       "Validation: |          | 0/? [00:00<?, ?it/s]"
      ]
     },
     "metadata": {},
     "output_type": "display_data"
    },
    {
     "data": {
      "application/vnd.jupyter.widget-view+json": {
       "model_id": "",
       "version_major": 2,
       "version_minor": 0
      },
      "text/plain": [
       "Validation: |          | 0/? [00:00<?, ?it/s]"
      ]
     },
     "metadata": {},
     "output_type": "display_data"
    },
    {
     "data": {
      "application/vnd.jupyter.widget-view+json": {
       "model_id": "",
       "version_major": 2,
       "version_minor": 0
      },
      "text/plain": [
       "Validation: |          | 0/? [00:00<?, ?it/s]"
      ]
     },
     "metadata": {},
     "output_type": "display_data"
    },
    {
     "data": {
      "application/vnd.jupyter.widget-view+json": {
       "model_id": "",
       "version_major": 2,
       "version_minor": 0
      },
      "text/plain": [
       "Validation: |          | 0/? [00:00<?, ?it/s]"
      ]
     },
     "metadata": {},
     "output_type": "display_data"
    },
    {
     "data": {
      "application/vnd.jupyter.widget-view+json": {
       "model_id": "",
       "version_major": 2,
       "version_minor": 0
      },
      "text/plain": [
       "Validation: |          | 0/? [00:00<?, ?it/s]"
      ]
     },
     "metadata": {},
     "output_type": "display_data"
    },
    {
     "data": {
      "application/vnd.jupyter.widget-view+json": {
       "model_id": "",
       "version_major": 2,
       "version_minor": 0
      },
      "text/plain": [
       "Validation: |          | 0/? [00:00<?, ?it/s]"
      ]
     },
     "metadata": {},
     "output_type": "display_data"
    },
    {
     "data": {
      "application/vnd.jupyter.widget-view+json": {
       "model_id": "",
       "version_major": 2,
       "version_minor": 0
      },
      "text/plain": [
       "Validation: |          | 0/? [00:00<?, ?it/s]"
      ]
     },
     "metadata": {},
     "output_type": "display_data"
    },
    {
     "data": {
      "application/vnd.jupyter.widget-view+json": {
       "model_id": "",
       "version_major": 2,
       "version_minor": 0
      },
      "text/plain": [
       "Validation: |          | 0/? [00:00<?, ?it/s]"
      ]
     },
     "metadata": {},
     "output_type": "display_data"
    },
    {
     "data": {
      "application/vnd.jupyter.widget-view+json": {
       "model_id": "",
       "version_major": 2,
       "version_minor": 0
      },
      "text/plain": [
       "Validation: |          | 0/? [00:00<?, ?it/s]"
      ]
     },
     "metadata": {},
     "output_type": "display_data"
    },
    {
     "data": {
      "application/vnd.jupyter.widget-view+json": {
       "model_id": "",
       "version_major": 2,
       "version_minor": 0
      },
      "text/plain": [
       "Validation: |          | 0/? [00:00<?, ?it/s]"
      ]
     },
     "metadata": {},
     "output_type": "display_data"
    },
    {
     "data": {
      "application/vnd.jupyter.widget-view+json": {
       "model_id": "",
       "version_major": 2,
       "version_minor": 0
      },
      "text/plain": [
       "Validation: |          | 0/? [00:00<?, ?it/s]"
      ]
     },
     "metadata": {},
     "output_type": "display_data"
    },
    {
     "data": {
      "application/vnd.jupyter.widget-view+json": {
       "model_id": "",
       "version_major": 2,
       "version_minor": 0
      },
      "text/plain": [
       "Validation: |          | 0/? [00:00<?, ?it/s]"
      ]
     },
     "metadata": {},
     "output_type": "display_data"
    },
    {
     "data": {
      "application/vnd.jupyter.widget-view+json": {
       "model_id": "",
       "version_major": 2,
       "version_minor": 0
      },
      "text/plain": [
       "Validation: |          | 0/? [00:00<?, ?it/s]"
      ]
     },
     "metadata": {},
     "output_type": "display_data"
    },
    {
     "data": {
      "application/vnd.jupyter.widget-view+json": {
       "model_id": "",
       "version_major": 2,
       "version_minor": 0
      },
      "text/plain": [
       "Validation: |          | 0/? [00:00<?, ?it/s]"
      ]
     },
     "metadata": {},
     "output_type": "display_data"
    },
    {
     "data": {
      "application/vnd.jupyter.widget-view+json": {
       "model_id": "",
       "version_major": 2,
       "version_minor": 0
      },
      "text/plain": [
       "Validation: |          | 0/? [00:00<?, ?it/s]"
      ]
     },
     "metadata": {},
     "output_type": "display_data"
    },
    {
     "data": {
      "application/vnd.jupyter.widget-view+json": {
       "model_id": "",
       "version_major": 2,
       "version_minor": 0
      },
      "text/plain": [
       "Validation: |          | 0/? [00:00<?, ?it/s]"
      ]
     },
     "metadata": {},
     "output_type": "display_data"
    },
    {
     "data": {
      "application/vnd.jupyter.widget-view+json": {
       "model_id": "",
       "version_major": 2,
       "version_minor": 0
      },
      "text/plain": [
       "Validation: |          | 0/? [00:00<?, ?it/s]"
      ]
     },
     "metadata": {},
     "output_type": "display_data"
    },
    {
     "data": {
      "application/vnd.jupyter.widget-view+json": {
       "model_id": "",
       "version_major": 2,
       "version_minor": 0
      },
      "text/plain": [
       "Validation: |          | 0/? [00:00<?, ?it/s]"
      ]
     },
     "metadata": {},
     "output_type": "display_data"
    },
    {
     "data": {
      "application/vnd.jupyter.widget-view+json": {
       "model_id": "",
       "version_major": 2,
       "version_minor": 0
      },
      "text/plain": [
       "Validation: |          | 0/? [00:00<?, ?it/s]"
      ]
     },
     "metadata": {},
     "output_type": "display_data"
    },
    {
     "data": {
      "application/vnd.jupyter.widget-view+json": {
       "model_id": "",
       "version_major": 2,
       "version_minor": 0
      },
      "text/plain": [
       "Validation: |          | 0/? [00:00<?, ?it/s]"
      ]
     },
     "metadata": {},
     "output_type": "display_data"
    },
    {
     "data": {
      "application/vnd.jupyter.widget-view+json": {
       "model_id": "",
       "version_major": 2,
       "version_minor": 0
      },
      "text/plain": [
       "Validation: |          | 0/? [00:00<?, ?it/s]"
      ]
     },
     "metadata": {},
     "output_type": "display_data"
    }
   ],
   "source": [
    "trainer = Trainer(\n",
    "    max_epochs=epochs,\n",
    "    logger=logger,\n",
    "    callbacks=callbacks,\n",
    "    accelerator='gpu' if torch.cuda.is_available() else 'cpu',\n",
    "    devices=1,\n",
    "    gradient_clip_val=1.0,  # Giảm grad clip để tránh exploding gradients\n",
    "    enable_progress_bar=True,\n",
    "    detect_anomaly=True,    # Bật phát hiện anomaly để debug\n",
    "    check_val_every_n_epoch=1\n",
    ")\n",
    "\n",
    "trainer.fit(imputer, datamodule=dm)"
   ]
  },
  {
   "cell_type": "code",
   "execution_count": 13,
   "metadata": {
    "execution": {
     "iopub.execute_input": "2025-04-10T00:33:53.888444Z",
     "iopub.status.busy": "2025-04-10T00:33:53.888079Z",
     "iopub.status.idle": "2025-04-10T00:33:57.109490Z",
     "shell.execute_reply": "2025-04-10T00:33:57.108484Z",
     "shell.execute_reply.started": "2025-04-10T00:33:53.888402Z"
    },
    "trusted": true
   },
   "outputs": [
    {
     "name": "stderr",
     "output_type": "stream",
     "text": [
      "/usr/local/lib/python3.10/dist-packages/tsl/engines/predictor.py:121: FutureWarning: You are using `torch.load` with `weights_only=False` (the current default value), which uses the default pickle module implicitly. It is possible to construct malicious pickle data which will execute arbitrary code during unpickling (See https://github.com/pytorch/pytorch/blob/main/SECURITY.md#untrusted-models for more details). In a future release, the default value for `weights_only` will be flipped to `True`. This limits the functions that could be executed during unpickling. Arbitrary objects will no longer be allowed to be loaded via this mode unless they are explicitly allowlisted by the user via `torch.serialization.add_safe_globals`. We recommend you start setting `weights_only=True` for any use case where you don't have full control of the loaded file. Please open an issue on GitHub for any issues related to this experimental feature.\n",
      "  storage = torch.load(filename, lambda storage, loc: storage)\n"
     ]
    },
    {
     "data": {
      "application/vnd.jupyter.widget-view+json": {
       "model_id": "2e85e4d606d64dd29e4cd9e0500ff760",
       "version_major": 2,
       "version_minor": 0
      },
      "text/plain": [
       "Testing: |          | 0/? [00:00<?, ?it/s]"
      ]
     },
     "metadata": {},
     "output_type": "display_data"
    },
    {
     "data": {
      "text/html": [
       "<pre style=\"white-space:pre;overflow-x:auto;line-height:normal;font-family:Menlo,'DejaVu Sans Mono',consolas,'Courier New',monospace\">┏━━━━━━━━━━━━━━━━━━━━━━━━━━━┳━━━━━━━━━━━━━━━━━━━━━━━━━━━┓\n",
       "┃<span style=\"font-weight: bold\">        Test metric        </span>┃<span style=\"font-weight: bold\">       DataLoader 0        </span>┃\n",
       "┡━━━━━━━━━━━━━━━━━━━━━━━━━━━╇━━━━━━━━━━━━━━━━━━━━━━━━━━━┩\n",
       "│<span style=\"color: #008080; text-decoration-color: #008080\">         test_loss         </span>│<span style=\"color: #800080; text-decoration-color: #800080\">            0.0            </span>│\n",
       "│<span style=\"color: #008080; text-decoration-color: #008080\">         test_mae          </span>│<span style=\"color: #800080; text-decoration-color: #800080\">    0.06523766368627548    </span>│\n",
       "│<span style=\"color: #008080; text-decoration-color: #008080\">         test_mape         </span>│<span style=\"color: #800080; text-decoration-color: #800080\">     14539.8544921875      </span>│\n",
       "│<span style=\"color: #008080; text-decoration-color: #008080\">         test_mre          </span>│<span style=\"color: #800080; text-decoration-color: #800080\">     0.737855076789856     </span>│\n",
       "│<span style=\"color: #008080; text-decoration-color: #008080\">         test_mse          </span>│<span style=\"color: #800080; text-decoration-color: #800080\">    0.02220136485993862    </span>│\n",
       "└───────────────────────────┴───────────────────────────┘\n",
       "</pre>\n"
      ],
      "text/plain": [
       "┏━━━━━━━━━━━━━━━━━━━━━━━━━━━┳━━━━━━━━━━━━━━━━━━━━━━━━━━━┓\n",
       "┃\u001b[1m \u001b[0m\u001b[1m       Test metric       \u001b[0m\u001b[1m \u001b[0m┃\u001b[1m \u001b[0m\u001b[1m      DataLoader 0       \u001b[0m\u001b[1m \u001b[0m┃\n",
       "┡━━━━━━━━━━━━━━━━━━━━━━━━━━━╇━━━━━━━━━━━━━━━━━━━━━━━━━━━┩\n",
       "│\u001b[36m \u001b[0m\u001b[36m        test_loss        \u001b[0m\u001b[36m \u001b[0m│\u001b[35m \u001b[0m\u001b[35m           0.0           \u001b[0m\u001b[35m \u001b[0m│\n",
       "│\u001b[36m \u001b[0m\u001b[36m        test_mae         \u001b[0m\u001b[36m \u001b[0m│\u001b[35m \u001b[0m\u001b[35m   0.06523766368627548   \u001b[0m\u001b[35m \u001b[0m│\n",
       "│\u001b[36m \u001b[0m\u001b[36m        test_mape        \u001b[0m\u001b[36m \u001b[0m│\u001b[35m \u001b[0m\u001b[35m    14539.8544921875     \u001b[0m\u001b[35m \u001b[0m│\n",
       "│\u001b[36m \u001b[0m\u001b[36m        test_mre         \u001b[0m\u001b[36m \u001b[0m│\u001b[35m \u001b[0m\u001b[35m    0.737855076789856    \u001b[0m\u001b[35m \u001b[0m│\n",
       "│\u001b[36m \u001b[0m\u001b[36m        test_mse         \u001b[0m\u001b[36m \u001b[0m│\u001b[35m \u001b[0m\u001b[35m   0.02220136485993862   \u001b[0m\u001b[35m \u001b[0m│\n",
       "└───────────────────────────┴───────────────────────────┘\n"
      ]
     },
     "metadata": {},
     "output_type": "display_data"
    },
    {
     "data": {
      "text/plain": [
       "[{'test_mae': 0.06523766368627548,\n",
       "  'test_mape': 14539.8544921875,\n",
       "  'test_mre': 0.737855076789856,\n",
       "  'test_mse': 0.02220136485993862,\n",
       "  'test_loss': 0.0}]"
      ]
     },
     "execution_count": 13,
     "metadata": {},
     "output_type": "execute_result"
    }
   ],
   "source": [
    "imputer.load_model(checkpoint_callback.best_model_path)\n",
    "imputer.freeze()\n",
    "trainer.test(imputer, datamodule=dm)"
   ]
  },
  {
   "cell_type": "code",
   "execution_count": 14,
   "metadata": {
    "execution": {
     "iopub.execute_input": "2025-04-10T00:33:57.111153Z",
     "iopub.status.busy": "2025-04-10T00:33:57.110749Z",
     "iopub.status.idle": "2025-04-10T00:33:57.152467Z",
     "shell.execute_reply": "2025-04-10T00:33:57.151549Z",
     "shell.execute_reply.started": "2025-04-10T00:33:57.111114Z"
    },
    "trusted": true
   },
   "outputs": [],
   "source": [
    "# Tạo empty eval mask cho toàn bộ dataset\n",
    "def create_empty_eval_mask(pivot_df):\n",
    "    \"\"\"Tạo mask đánh giá rỗng (toàn False) có cùng định dạng với dữ liệu gốc.\"\"\"\n",
    "    eval_mask = pivot_df.isna().astype(int)\n",
    "    eval_mask = (eval_mask * 0).astype(bool)\n",
    "    return eval_mask\n",
    "\n",
    "# Tạo dataset mới để impute toàn bộ dữ liệu\n",
    "imputation_dataset_full = ImputationDataset(\n",
    "    target=pivot_df,  # Toàn bộ dữ liệu\n",
    "    eval_mask=create_empty_eval_mask(pivot_df),  # Không cần eval_mask\n",
    "    covariates={'time': covariates},  # Sử dụng covariates đã tạo trước đó\n",
    "    connectivity=adj,  # Sử dụng ma trận kề đã tạo trước đó\n",
    "    window=14,\n",
    "    stride=1\n",
    ")\n",
    "\n",
    "# Cấu hình datamodule cho toàn bộ dữ liệu\n",
    "dm_full = SpatioTemporalDataModule(\n",
    "    dataset=imputation_dataset_full,\n",
    "    scalers=scalers,  # Sử dụng cùng scaler đã dùng trong huấn luyện\n",
    "    splitter=None,  # Không cần chia dữ liệu\n",
    "    batch_size=64,\n",
    "    workers=4\n",
    ")\n",
    "dm_full.setup()\n",
    "\n",
    "# Tạo DataLoader cho toàn bộ dữ liệu\n",
    "dm_full.trainset = list(range(len(imputation_dataset_full)))\n",
    "full_dataloader = dm_full.train_dataloader(shuffle=False)"
   ]
  },
  {
   "cell_type": "code",
   "execution_count": 15,
   "metadata": {
    "execution": {
     "iopub.execute_input": "2025-04-10T00:33:57.153434Z",
     "iopub.status.busy": "2025-04-10T00:33:57.153221Z",
     "iopub.status.idle": "2025-04-10T00:33:57.161277Z",
     "shell.execute_reply": "2025-04-10T00:33:57.160458Z",
     "shell.execute_reply.started": "2025-04-10T00:33:57.153414Z"
    },
    "trusted": true
   },
   "outputs": [],
   "source": [
    "# Tạo hàm wrapper cho tsl.data.batch.StaticBatch để xử lý lỗi tensor shape khi predict\n",
    "from tsl.data.batch import StaticBatch\n",
    "\n",
    "def create_compatible_batch(batch_dict):\n",
    "    \"\"\"Chuyển đổi dictionary batch thành đối tượng StaticBatch.\"\"\"\n",
    "    batch = StaticBatch()\n",
    "    \n",
    "    # Tạo thuộc tính input\n",
    "    batch.input = type('InputContainer', (), {})()\n",
    "    \n",
    "    # Thêm các tensor cơ bản\n",
    "    batch.input.x = batch_dict['x']\n",
    "    batch.input.mask = batch_dict['mask']\n",
    "    \n",
    "    # Thêm các tensor tùy chọn\n",
    "    if 'edge_index' in batch_dict:\n",
    "        batch.input.edge_index = batch_dict['edge_index']\n",
    "    if 'edge_weight' in batch_dict:\n",
    "        batch.input.edge_weight = batch_dict['edge_weight']\n",
    "    if 'u' in batch_dict:\n",
    "        batch.input.u = batch_dict['u']\n",
    "    \n",
    "    # Thêm các thuộc tính khác\n",
    "    if 'y' in batch_dict:\n",
    "        batch.y = batch_dict['y']\n",
    "    batch.mask = batch_dict['mask']\n",
    "    if 'eval_mask' in batch_dict:\n",
    "        batch.eval_mask = batch_dict['eval_mask']\n",
    "    if 'transform' in batch_dict:\n",
    "        batch.transform = batch_dict['transform']\n",
    "    else:\n",
    "        batch.transform = {}\n",
    "    \n",
    "    # Thiết lập kích thước batch\n",
    "    batch.batch_size = batch_dict['x'].size(0)\n",
    "    \n",
    "    return batch"
   ]
  },
  {
   "cell_type": "code",
   "execution_count": 16,
   "metadata": {
    "execution": {
     "iopub.execute_input": "2025-04-10T00:33:57.162533Z",
     "iopub.status.busy": "2025-04-10T00:33:57.162272Z",
     "iopub.status.idle": "2025-04-10T00:33:57.177959Z",
     "shell.execute_reply": "2025-04-10T00:33:57.177115Z",
     "shell.execute_reply.started": "2025-04-10T00:33:57.162509Z"
    },
    "trusted": true
   },
   "outputs": [],
   "source": [
    "# Hàm dự đoán an toàn để xử lý các vấn đề kích thước tensor\n",
    "def safe_predict(imputer_model, dataloader, device):\n",
    "    \"\"\"Dự đoán an toàn trên từng mẫu một.\"\"\"\n",
    "    imputer_model.eval()  # Đặt mô hình về chế độ đánh giá\n",
    "    results = []\n",
    "    \n",
    "    with torch.no_grad():\n",
    "        for batch_idx, batch in enumerate(dataloader):\n",
    "            # Chuyển đổi sang StaticBatch tương thích\n",
    "            compatible_batch = create_compatible_batch(batch)\n",
    "            \n",
    "            try:\n",
    "                # Sử dụng predict_step để xử lý toàn bộ batch\n",
    "                output = imputer_model.predict_step(compatible_batch, batch_idx)\n",
    "                results.append(output)\n",
    "                \n",
    "                # In tiến trình\n",
    "                if (batch_idx + 1) % 5 == 0:\n",
    "                    print(f\"Đã xử lý {batch_idx + 1}/{len(dataloader)} batch\")\n",
    "            except Exception as e:\n",
    "                print(f\"Lỗi khi xử lý batch {batch_idx}: {e}\")\n",
    "                # Xử lý từng mẫu nếu xử lý cả batch gặp lỗi\n",
    "                batch_results = []\n",
    "                \n",
    "                # Chuyển dữ liệu sang device\n",
    "                x = batch['x'].to(device)\n",
    "                mask = batch['mask'].to(device)\n",
    "                edge_index = batch.get('edge_index', None)\n",
    "                if edge_index is not None:\n",
    "                    edge_index = edge_index.to(device)\n",
    "                edge_weight = batch.get('edge_weight', None)\n",
    "                if edge_weight is not None:\n",
    "                    edge_weight = edge_weight.to(device)\n",
    "                u = batch.get('u', None)\n",
    "                if u is not None:\n",
    "                    u = u.to(device)\n",
    "                    \n",
    "                # Xử lý từng mẫu\n",
    "                for i in range(x.size(0)):\n",
    "                    sample_x = x[i:i+1]  # Giữ batch dimension\n",
    "                    sample_mask = mask[i:i+1]\n",
    "                    sample_u = u[i:i+1] if u is not None else None\n",
    "                    \n",
    "                    # Chuẩn bị đầu vào\n",
    "                    input_dict = {\n",
    "                        'x': sample_x,\n",
    "                        'mask': sample_mask\n",
    "                    }\n",
    "                    if edge_index is not None:\n",
    "                        input_dict['edge_index'] = edge_index\n",
    "                    if edge_weight is not None:\n",
    "                        input_dict['edge_weight'] = edge_weight\n",
    "                    if sample_u is not None:\n",
    "                        input_dict['u'] = sample_u\n",
    "                        \n",
    "                    try:\n",
    "                        # Gọi forward và lấy kết quả\n",
    "                        output = imputer_model.model.forward(**input_dict)\n",
    "                        if isinstance(output, list) and len(output) > 0:\n",
    "                            imputation = output[0]\n",
    "                        else:\n",
    "                            imputation = output\n",
    "                            \n",
    "                        # Xử lý inverse transform\n",
    "                        trans = batch.get('transform', {}).get('y')\n",
    "                        if trans is not None:\n",
    "                            imputation = trans.inverse_transform(imputation)\n",
    "                            \n",
    "                        batch_results.append(imputation)\n",
    "                    except Exception as e:\n",
    "                        print(f\"Lỗi khi dự đoán mẫu {i} trong batch {batch_idx}: {e}\")\n",
    "                        \n",
    "                # Kết hợp kết quả của batch\n",
    "                if batch_results:\n",
    "                    batch_imputation = torch.cat(batch_results, dim=0)\n",
    "                    \n",
    "                    batch_output = {\n",
    "                        'y': batch.get('y', torch.zeros_like(batch_imputation)).cpu(),\n",
    "                        'y_hat': batch_imputation.cpu(),\n",
    "                        'mask': batch['mask'].cpu(),\n",
    "                        'eval_mask': batch.get('eval_mask', torch.zeros_like(batch['mask'])).cpu()\n",
    "                    }\n",
    "                    \n",
    "                    results.append(batch_output)\n",
    "                    \n",
    "    return results"
   ]
  },
  {
   "cell_type": "code",
   "execution_count": 17,
   "metadata": {
    "execution": {
     "iopub.execute_input": "2025-04-10T00:33:57.179306Z",
     "iopub.status.busy": "2025-04-10T00:33:57.179001Z",
     "iopub.status.idle": "2025-04-10T00:38:00.874080Z",
     "shell.execute_reply": "2025-04-10T00:38:00.872968Z",
     "shell.execute_reply.started": "2025-04-10T00:33:57.179278Z"
    },
    "trusted": true
   },
   "outputs": [
    {
     "name": "stdout",
     "output_type": "stream",
     "text": [
      "Thực hiện imputation cho những điểm missing thực sự trong dữ liệu...\n",
      "\n",
      "Phương pháp 1: Sử dụng trainer.predict()...\n"
     ]
    },
    {
     "data": {
      "application/vnd.jupyter.widget-view+json": {
       "model_id": "5ff899cc3eb640aa9c6da61ba9c44685",
       "version_major": 2,
       "version_minor": 0
      },
      "text/plain": [
       "Predicting: |          | 0/? [00:00<?, ?it/s]"
      ]
     },
     "metadata": {},
     "output_type": "display_data"
    },
    {
     "name": "stdout",
     "output_type": "stream",
     "text": [
      "Lỗi khi sử dụng trainer.predict(): The size of tensor a (64) must match the size of tensor b (14) at non-singleton dimension 1\n",
      "\n",
      "Phương pháp 2: Sử dụng trainer.test()...\n",
      "Lỗi khi sử dụng trainer.test(): An invalid dataloader was returned from `SpatioTemporalDataModule.test_dataloader()`. Found None.\n",
      "\n",
      "Phương pháp 3: Sử dụng safe_predict()...\n",
      "Đã xử lý 5/34 batch\n",
      "Đã xử lý 10/34 batch\n",
      "Đã xử lý 15/34 batch\n",
      "Đã xử lý 20/34 batch\n",
      "Đã xử lý 25/34 batch\n",
      "Đã xử lý 30/34 batch\n",
      "Đã dự đoán thành công với 34 batch\n"
     ]
    }
   ],
   "source": [
    "# Thực hiện dự đoán trên toàn bộ dữ liệu\n",
    "print(\"Thực hiện imputation cho những điểm missing thực sự trong dữ liệu...\")\n",
    "device = torch.device('cuda' if torch.cuda.is_available() else 'cpu')\n",
    "\n",
    "# Phương pháp 1: Sử dụng trainer.predict (đơn giản nhất nhưng có thể gặp lỗi tensor shape)\n",
    "try:\n",
    "    print(\"\\nPhương pháp 1: Sử dụng trainer.predict()...\")\n",
    "    predictions1 = trainer.predict(imputer, dataloaders=full_dataloader)\n",
    "    print(f\"Đã dự đoán thành công với {len(predictions)} batch\")\n",
    "except Exception as e:\n",
    "    print(f\"Lỗi khi sử dụng trainer.predict(): {e}\")\n",
    "    predictions = None\n",
    "\n",
    "# Phương pháp 2: Sử dụng trainer.test (thường hoạt động tốt hơn)\n",
    "try:\n",
    "    print(\"\\nPhương pháp 2: Sử dụng trainer.test()...\")\n",
    "    test_results = trainer.test(imputer, datamodule=dm_full)\n",
    "    print(f\"Test metrics: {test_results}\")\n",
    "except Exception as e:\n",
    "    print(f\"Lỗi khi sử dụng trainer.test(): {e}\")\n",
    "\n",
    "# Phương pháp 3: Sử dụng hàm safe_predict (đáng tin cậy nhất)\n",
    "print(\"\\nPhương pháp 3: Sử dụng safe_predict()...\")\n",
    "predictions = safe_predict(imputer, full_dataloader, device)\n",
    "print(f\"Đã dự đoán thành công với {len(predictions)} batch\")"
   ]
  },
  {
   "cell_type": "code",
   "execution_count": 18,
   "metadata": {
    "execution": {
     "iopub.execute_input": "2025-04-10T00:38:00.875708Z",
     "iopub.status.busy": "2025-04-10T00:38:00.875325Z",
     "iopub.status.idle": "2025-04-10T00:38:00.886270Z",
     "shell.execute_reply": "2025-04-10T00:38:00.885303Z",
     "shell.execute_reply.started": "2025-04-10T00:38:00.875664Z"
    },
    "trusted": true
   },
   "outputs": [],
   "source": [
    "method1_output = imputer.collate_prediction_outputs(predictions)\n",
    "method1_output = torch_to_numpy(method1_output)"
   ]
  },
  {
   "cell_type": "code",
   "execution_count": 19,
   "metadata": {
    "execution": {
     "iopub.execute_input": "2025-04-10T00:38:00.887727Z",
     "iopub.status.busy": "2025-04-10T00:38:00.887466Z",
     "iopub.status.idle": "2025-04-10T00:38:00.900895Z",
     "shell.execute_reply": "2025-04-10T00:38:00.900008Z",
     "shell.execute_reply.started": "2025-04-10T00:38:00.887705Z"
    },
    "trusted": true
   },
   "outputs": [
    {
     "name": "stdout",
     "output_type": "stream",
     "text": [
      "Xử lý kết quả dự đoán...\n",
      "Hello world\n",
      "Thông tin về kết quả dự đoán:\n",
      "- Kích thước y_hat: (2176, 14, 26, 7)\n"
     ]
    }
   ],
   "source": [
    "# Xử lý kết quả dự đoán để tạo DataFrame imputed\n",
    "print(\"Xử lý kết quả dự đoán...\")\n",
    "\n",
    "if True:\n",
    "    # Hàm để kết hợp kết quả từ các batch\n",
    "    def collate_prediction_outputs(outputs):\n",
    "        print(\"Hello world\")\n",
    "        processed_res = dict()\n",
    "        keys = set()\n",
    "        # Lặp qua kết quả từng batch\n",
    "        for res in outputs:\n",
    "            for k, v in res.items():\n",
    "                if k in keys:\n",
    "                    processed_res[k].append(v)\n",
    "                else:\n",
    "                    processed_res[k] = [v]\n",
    "                keys.add(k)\n",
    "        # Nối kết quả\n",
    "        for k, v in processed_res.items():\n",
    "            if all(torch.is_tensor(x) for x in v):\n",
    "                processed_res[k] = torch.cat(v, 0)\n",
    "        return processed_res\n",
    "    \n",
    "    # Kết hợp kết quả từ các batch\n",
    "    output = collate_prediction_outputs(predictions)\n",
    "    output = torch_to_numpy(output)\n",
    "    \n",
    "    print(\"Thông tin về kết quả dự đoán:\")\n",
    "    print(f\"- Kích thước y_hat: {output['y_hat'].shape}\")\n",
    "    \n",
    "    # Nếu có dữ liệu thực tế, tính metrics\n",
    "    if 'y' in output and output['y'] is not None:\n",
    "        if 'mask' in output and output['mask'] is not None:\n",
    "            mask = output['mask']\n",
    "            print(f\"- Số điểm có dữ liệu (mask=True): {mask.sum()}\")\n",
    "            \n",
    "            # Tính metrics trên dữ liệu đã biết\n",
    "            print(\"\\nMetrics trên dữ liệu đã biết:\")\n",
    "            print(f\"- MAE: {numpy_metrics.mae(output['y_hat'], output['y'], mask)}\")\n",
    "            print(f\"- MSE: {numpy_metrics.mse(output['y_hat'], output['y'], mask)}\")\n",
    "            print(f\"- RMSE: {numpy_metrics.rmse(output['y_hat'], output['y'], mask)}\")\n",
    "else:\n",
    "    print(\"Không có kết quả dự đoán!\")"
   ]
  },
  {
   "cell_type": "code",
   "execution_count": 20,
   "metadata": {
    "execution": {
     "iopub.execute_input": "2025-04-10T00:38:00.902424Z",
     "iopub.status.busy": "2025-04-10T00:38:00.902130Z",
     "iopub.status.idle": "2025-04-10T00:39:12.901124Z",
     "shell.execute_reply": "2025-04-10T00:39:12.900169Z",
     "shell.execute_reply.started": "2025-04-10T00:38:00.902374Z"
    },
    "trusted": true
   },
   "outputs": [
    {
     "name": "stdout",
     "output_type": "stream",
     "text": [
      "Đang tạo DataFrame với giá trị đã được imputed (phiên bản cải tiến)...\n",
      "Tổng số giá trị bị thiếu: 150939\n",
      "Kích thước tensor dự đoán: (2176, 14, 26, 7)\n",
      "Số hàng trong DataFrame: 2192\n",
      "Số cột trong DataFrame: 182\n",
      "Cấu trúc index của cột: <class 'pandas.core.indexes.multi.MultiIndex'>\n",
      "Xử lý tensor 4D...\n",
      "Kích thước sau khi lấy middle time step: (2176, 26, 7)\n",
      "Xử lý MultiIndex columns...\n",
      "Số node phát hiện: 26\n",
      "Số feature phát hiện: 7\n",
      "Đang điền giá trị vào các vị trí bị thiếu...\n",
      "Đã điền 150033/150939 giá trị bị thiếu.\n",
      "Số lượng giá trị còn thiếu sau khi impute: 906\n",
      "Phần trăm giá trị còn thiếu: 0.23%\n",
      "Đã lưu DataFrame đã được imputed vào file 'atmospheric_imputed.csv'\n",
      "\n",
      "Một số ví dụ về giá trị đã được điền:\n",
      "ID                              5                    \n",
      "satellite_based_factors       AAI     CLOUD        CO\n",
      "date                                                 \n",
      "2019-01-01              -1.112399  1.000000  0.047875\n",
      "2019-01-02              -0.346883  1.000000  0.043722\n",
      "2019-01-03              -0.590766  1.000000  0.049522\n",
      "2019-01-04              -0.074776  0.810048  0.050024\n",
      "2019-01-05              -0.680256  1.000000  0.053550\n",
      "\n",
      "Tỷ lệ giá trị còn thiếu theo từng node:\n",
      "Node 5: 39 giá trị thiếu (0.25%)\n",
      "Node 19: 38 giá trị thiếu (0.25%)\n",
      "Node 51: 30 giá trị thiếu (0.20%)\n",
      "Node 52: 33 giá trị thiếu (0.22%)\n",
      "Node 53: 35 giá trị thiếu (0.23%)\n",
      "Node 54: 31 giá trị thiếu (0.20%)\n",
      "Node 60: 33 giá trị thiếu (0.22%)\n",
      "Node 62: 33 giá trị thiếu (0.22%)\n",
      "Node 66: 31 giá trị thiếu (0.20%)\n",
      "Node 71: 35 giá trị thiếu (0.23%)\n",
      "Node 79: 36 giá trị thiếu (0.23%)\n",
      "Node 155: 33 giá trị thiếu (0.22%)\n",
      "Node 156: 33 giá trị thiếu (0.22%)\n",
      "Node 157: 37 giá trị thiếu (0.24%)\n",
      "Node 158: 36 giá trị thiếu (0.23%)\n",
      "Node 159: 38 giá trị thiếu (0.25%)\n",
      "Node 160: 38 giá trị thiếu (0.25%)\n",
      "Node 161: 34 giá trị thiếu (0.22%)\n",
      "Node 162: 35 giá trị thiếu (0.23%)\n",
      "Node 163: 35 giá trị thiếu (0.23%)\n",
      "Node 169: 34 giá trị thiếu (0.22%)\n",
      "Node 172: 27 giá trị thiếu (0.18%)\n",
      "Node 173: 31 giá trị thiếu (0.20%)\n",
      "Node 175: 37 giá trị thiếu (0.24%)\n",
      "Node 195: 45 giá trị thiếu (0.29%)\n",
      "Node 300: 39 giá trị thiếu (0.25%)\n"
     ]
    }
   ],
   "source": [
    "# Cải tiến hàm điền giá trị vào DataFrame\n",
    "print(\"Đang tạo DataFrame với giá trị đã được imputed (phiên bản cải tiến)...\")\n",
    "\n",
    "if 'output' in locals() and 'y_hat' in output:\n",
    "    # Tạo bản sao của DataFrame gốc\n",
    "    imputed_df = pivot_df.copy()\n",
    "    \n",
    "    # Xác định vị trí các giá trị bị thiếu\n",
    "    missing_mask = imputed_df.isna()\n",
    "    num_missing = missing_mask.sum().sum()\n",
    "    print(f\"Tổng số giá trị bị thiếu: {num_missing}\")\n",
    "    \n",
    "    try:\n",
    "        # Phân tích kích thước dự đoán và cấu trúc DataFrame\n",
    "        predictions_shape = output['y_hat'].shape\n",
    "        print(f\"Kích thước tensor dự đoán: {predictions_shape}\")\n",
    "        print(f\"Số hàng trong DataFrame: {len(imputed_df)}\")\n",
    "        print(f\"Số cột trong DataFrame: {len(imputed_df.columns)}\")\n",
    "        \n",
    "        # Kiểm tra cấu trúc index của các cột\n",
    "        print(f\"Cấu trúc index của cột: {type(imputed_df.columns)}\")\n",
    "        \n",
    "        # Xử lý kết quả dự đoán để khớp với định dạng của DataFrame\n",
    "        if len(predictions_shape) == 4:  # [samples, window, nodes, features]\n",
    "            print(\"Xử lý tensor 4D...\")\n",
    "            # Lấy giá trị ở middle time step\n",
    "            middle_step = predictions_shape[1] // 2\n",
    "            predictions = output['y_hat'][:, middle_step, :, :]\n",
    "            print(f\"Kích thước sau khi lấy middle time step: {predictions.shape}\")\n",
    "        elif len(predictions_shape) == 3:  # [window, nodes, features] hoặc [samples, nodes, features]\n",
    "            print(\"Xử lý tensor 3D...\")\n",
    "            if predictions_shape[0] > len(imputed_df):\n",
    "                # Trường hợp này là [samples, nodes, features]\n",
    "                predictions = output['y_hat']\n",
    "            else:\n",
    "                # Trường hợp này là [window, nodes, features]\n",
    "                middle_step = predictions_shape[0] // 2\n",
    "                predictions = output['y_hat'][middle_step, :, :]\n",
    "            print(f\"Kích thước sau khi xử lý: {predictions.shape}\")\n",
    "        else:\n",
    "            predictions = output['y_hat']\n",
    "            print(f\"Sử dụng tensor với kích thước: {predictions.shape}\")\n",
    "        \n",
    "        # Tạo mapping từ node và feature index sang DataFrame columns\n",
    "        column_map = {}\n",
    "        node_ids = []\n",
    "        feature_ids = []\n",
    "        \n",
    "        # Xác định tất cả các node và feature từ MultiIndex\n",
    "        try:\n",
    "            # Trường hợp MultiIndex (ID, feature)\n",
    "            if isinstance(imputed_df.columns, pd.MultiIndex):\n",
    "                print(\"Xử lý MultiIndex columns...\")\n",
    "                for i, (node, feature) in enumerate(imputed_df.columns):\n",
    "                    if node not in node_ids:\n",
    "                        node_ids.append(node)\n",
    "                    if feature not in feature_ids:\n",
    "                        feature_ids.append(feature)\n",
    "                    column_map[(node_ids.index(node), feature_ids.index(feature))] = i\n",
    "            else:\n",
    "                # Trường hợp Index đơn giản\n",
    "                print(\"Xử lý Index đơn giản...\")\n",
    "                for i, col in enumerate(imputed_df.columns):\n",
    "                    column_map[i] = i\n",
    "        except Exception as e:\n",
    "            print(f\"Lỗi khi phân tích cấu trúc cột: {e}\")\n",
    "            # Tạo mapping đơn giản dựa trên chỉ số\n",
    "            for i in range(len(imputed_df.columns)):\n",
    "                column_map[i] = i\n",
    "        \n",
    "        print(f\"Số node phát hiện: {len(node_ids)}\")\n",
    "        print(f\"Số feature phát hiện: {len(feature_ids)}\")\n",
    "        \n",
    "        # Điền giá trị thiếu trong DataFrame\n",
    "        print(\"Đang điền giá trị vào các vị trí bị thiếu...\")\n",
    "        \n",
    "        # Đếm số lượng giá trị đã được điền\n",
    "        filled_count = 0\n",
    "        skipped_count = 0\n",
    "        \n",
    "        # Phương pháp 1: Điền trực tiếp dùng mapping\n",
    "        if isinstance(imputed_df.columns, pd.MultiIndex):\n",
    "            # Duyệt qua từng ngày trong dữ liệu\n",
    "            for date_idx, date in enumerate(imputed_df.index):\n",
    "                if date_idx < predictions.shape[0]:\n",
    "                    # Duyệt qua từng node và feature\n",
    "                    for node_idx, node_id in enumerate(node_ids):\n",
    "                        if node_idx < predictions.shape[1]:\n",
    "                            for feat_idx, feat in enumerate(feature_ids):\n",
    "                                if feat_idx < predictions.shape[2]:\n",
    "                                    try:\n",
    "                                        # Xây dựng cột MultiIndex\n",
    "                                        col = (node_id, feat)\n",
    "                                        if col in imputed_df.columns and missing_mask.loc[date, col]:\n",
    "                                            # Điền giá trị dự đoán\n",
    "                                            imputed_df.loc[date, col] = predictions[date_idx, node_idx, feat_idx]\n",
    "                                            filled_count += 1\n",
    "                                    except Exception as e:\n",
    "                                        print(f\"Lỗi khi điền giá trị cho ngày {date}, node {node_id}, feature {feat}: {e}\")\n",
    "                                        skipped_count += 1\n",
    "        else:\n",
    "            # Phương pháp 2: Điền trực tiếp theo chỉ số đơn giản\n",
    "            dates = imputed_df.index.tolist()\n",
    "            for date_idx, date in enumerate(dates):\n",
    "                if date_idx < predictions.shape[0]:\n",
    "                    for col_idx, col in enumerate(imputed_df.columns):\n",
    "                        if missing_mask.loc[date, col]:\n",
    "                            node_idx = col_idx // imputation_dataset.n_channels\n",
    "                            feat_idx = col_idx % imputation_dataset.n_channels\n",
    "                            \n",
    "                            if node_idx < predictions.shape[1] and feat_idx < predictions.shape[2]:\n",
    "                                try:\n",
    "                                    # Điền giá trị dự đoán\n",
    "                                    imputed_df.loc[date, col] = predictions[date_idx, node_idx, feat_idx]\n",
    "                                    filled_count += 1\n",
    "                                except Exception as e:\n",
    "                                    print(f\"Lỗi khi điền giá trị đơn giản cho {date}, cột {col}: {e}\")\n",
    "                                    skipped_count += 1\n",
    "        \n",
    "        print(f\"Đã điền {filled_count}/{num_missing} giá trị bị thiếu.\")\n",
    "        if skipped_count > 0:\n",
    "            print(f\"Đã bỏ qua {skipped_count} giá trị do lỗi.\")\n",
    "        \n",
    "        # Kiểm tra lại số lượng missing sau khi impute\n",
    "        remaining_missing = imputed_df.isna().sum().sum()\n",
    "        print(f\"Số lượng giá trị còn thiếu sau khi impute: {remaining_missing}\")\n",
    "        missing_pct = remaining_missing / imputed_df.size * 100\n",
    "        print(f\"Phần trăm giá trị còn thiếu: {missing_pct:.2f}%\")\n",
    "        \n",
    "        # Nếu vẫn còn nhiều giá trị thiếu, thử phương pháp khác\n",
    "        if remaining_missing > 0.3 * num_missing:\n",
    "            print(\"\\nVẫn còn nhiều giá trị thiếu, thử phương pháp khác...\")\n",
    "            \n",
    "            # Phương pháp 3: Thử điền giá trị bằng cách reshape tensor\n",
    "            try:\n",
    "                # Reshape predictions để phù hợp với DataFrame\n",
    "                flat_predictions = predictions.reshape(predictions.shape[0], -1)\n",
    "                print(f\"Kích thước tensor sau khi reshape: {flat_predictions.shape}\")\n",
    "                \n",
    "                # Kiểm tra từng hàng và thử điền giá trị thiếu\n",
    "                for date_idx, date in enumerate(imputed_df.index):\n",
    "                    if date_idx < flat_predictions.shape[0]:\n",
    "                        for col_idx, col in enumerate(imputed_df.columns):\n",
    "                            if missing_mask.loc[date, col] and col_idx < flat_predictions.shape[1]:\n",
    "                                imputed_df.loc[date, col] = flat_predictions[date_idx, col_idx]\n",
    "                \n",
    "                # Kiểm tra lại sau khi thử phương pháp mới\n",
    "                remaining_missing_new = imputed_df.isna().sum().sum()\n",
    "                improved = num_missing - remaining_missing_new\n",
    "                print(f\"Phương pháp mới đã điền thêm được {improved} giá trị.\")\n",
    "                print(f\"Số lượng giá trị còn thiếu: {remaining_missing_new}\")\n",
    "            except Exception as e:\n",
    "                print(f\"Lỗi khi thử phương pháp mới: {e}\")\n",
    "        \n",
    "        # Lưu DataFrame đã được imputed\n",
    "        imputed_df.to_csv('atmospheric_imputed.csv')\n",
    "        print(\"Đã lưu DataFrame đã được imputed vào file 'atmospheric_imputed.csv'\")\n",
    "        \n",
    "        # Hiển thị một số ví dụ về giá trị đã được điền\n",
    "        print(\"\\nMột số ví dụ về giá trị đã được điền:\")\n",
    "        sample_cols = list(imputed_df.columns[:3])\n",
    "        sample_rows = imputed_df.index[:5]\n",
    "        print(imputed_df.loc[sample_rows, sample_cols])\n",
    "        \n",
    "        # Kiểm tra tỷ lệ missing của từng node\n",
    "        print(\"\\nTỷ lệ giá trị còn thiếu theo từng node:\")\n",
    "        try:\n",
    "            if isinstance(imputed_df.columns, pd.MultiIndex):\n",
    "                node_missing = {}\n",
    "                for node in node_ids:\n",
    "                    node_cols = [col for col in imputed_df.columns if col[0] == node]\n",
    "                    missing_count = imputed_df[node_cols].isna().sum().sum()\n",
    "                    total_count = len(node_cols) * len(imputed_df)\n",
    "                    node_missing[node] = (missing_count, missing_count/total_count*100)\n",
    "                \n",
    "                for node, (count, pct) in node_missing.items():\n",
    "                    print(f\"Node {node}: {count} giá trị thiếu ({pct:.2f}%)\")\n",
    "        except Exception as e:\n",
    "            print(f\"Lỗi khi phân tích missing theo node: {e}\")\n",
    "    except Exception as e:\n",
    "        print(f\"Lỗi khi điền giá trị vào DataFrame: {e}\")\n",
    "else:\n",
    "    print(\"Không có dữ liệu dự đoán để tạo DataFrame imputed.\")"
   ]
  },
  {
   "cell_type": "code",
   "execution_count": null,
   "metadata": {
    "trusted": true
   },
   "outputs": [],
   "source": []
  }
 ],
 "metadata": {
  "kaggle": {
   "accelerator": "nvidiaTeslaT4",
   "dataSources": [
    {
     "datasetId": 7079624,
     "sourceId": 11318507,
     "sourceType": "datasetVersion"
    }
   ],
   "dockerImageVersionId": 30918,
   "isGpuEnabled": true,
   "isInternetEnabled": true,
   "language": "python",
   "sourceType": "notebook"
  },
  "kernelspec": {
   "display_name": "spatiotemporal",
   "language": "python",
   "name": "python3"
  },
  "language_info": {
   "codemirror_mode": {
    "name": "ipython",
    "version": 3
   },
   "file_extension": ".py",
   "mimetype": "text/x-python",
   "name": "python",
   "nbconvert_exporter": "python",
   "pygments_lexer": "ipython3",
   "version": "3.10.16"
  }
 },
 "nbformat": 4,
 "nbformat_minor": 4
}
