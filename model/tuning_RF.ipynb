{
 "cells": [
  {
   "cell_type": "code",
   "execution_count": 31,
   "id": "b9d93c0a",
   "metadata": {},
   "outputs": [
    {
     "name": "stdout",
     "output_type": "stream",
     "text": [
      "Collecting xgboost\n",
      "  Downloading xgboost-3.0.0-py3-none-manylinux_2_28_x86_64.whl.metadata (2.1 kB)\n",
      "Requirement already satisfied: numpy in /home/thu/miniconda3/lib/python3.12/site-packages (from xgboost) (2.2.3)\n",
      "Requirement already satisfied: nvidia-nccl-cu12 in /home/thu/miniconda3/lib/python3.12/site-packages (from xgboost) (2.21.5)\n",
      "Requirement already satisfied: scipy in /home/thu/miniconda3/lib/python3.12/site-packages (from xgboost) (1.15.2)\n",
      "Downloading xgboost-3.0.0-py3-none-manylinux_2_28_x86_64.whl (253.9 MB)\n",
      "\u001b[2K   \u001b[90m━━━━━━━━━━━━━━━━━━━━━━━━━━━━━━━━━━━━━━━━\u001b[0m \u001b[32m253.9/253.9 MB\u001b[0m \u001b[31m9.5 MB/s\u001b[0m eta \u001b[36m0:00:00\u001b[0m:00:01\u001b[0m00:01\u001b[0m\n",
      "\u001b[?25hInstalling collected packages: xgboost\n",
      "Successfully installed xgboost-3.0.0\n",
      "Note: you may need to restart the kernel to use updated packages.\n",
      "Collecting catboost\n",
      "  Downloading catboost-1.2.8-cp312-cp312-manylinux2014_x86_64.whl.metadata (1.2 kB)\n",
      "Collecting graphviz (from catboost)\n",
      "  Downloading graphviz-0.20.3-py3-none-any.whl.metadata (12 kB)\n",
      "Requirement already satisfied: matplotlib in /home/thu/miniconda3/lib/python3.12/site-packages (from catboost) (3.10.1)\n",
      "Requirement already satisfied: numpy<3.0,>=1.16.0 in /home/thu/miniconda3/lib/python3.12/site-packages (from catboost) (2.2.3)\n",
      "Requirement already satisfied: pandas>=0.24 in /home/thu/miniconda3/lib/python3.12/site-packages (from catboost) (2.2.3)\n",
      "Requirement already satisfied: scipy in /home/thu/miniconda3/lib/python3.12/site-packages (from catboost) (1.15.2)\n",
      "Collecting plotly (from catboost)\n",
      "  Downloading plotly-6.0.1-py3-none-any.whl.metadata (6.7 kB)\n",
      "Requirement already satisfied: six in /home/thu/miniconda3/lib/python3.12/site-packages (from catboost) (1.17.0)\n",
      "Requirement already satisfied: python-dateutil>=2.8.2 in /home/thu/miniconda3/lib/python3.12/site-packages (from pandas>=0.24->catboost) (2.9.0.post0)\n",
      "Requirement already satisfied: pytz>=2020.1 in /home/thu/miniconda3/lib/python3.12/site-packages (from pandas>=0.24->catboost) (2025.2)\n",
      "Requirement already satisfied: tzdata>=2022.7 in /home/thu/miniconda3/lib/python3.12/site-packages (from pandas>=0.24->catboost) (2025.2)\n",
      "Requirement already satisfied: contourpy>=1.0.1 in /home/thu/miniconda3/lib/python3.12/site-packages (from matplotlib->catboost) (1.3.2)\n",
      "Requirement already satisfied: cycler>=0.10 in /home/thu/miniconda3/lib/python3.12/site-packages (from matplotlib->catboost) (0.12.1)\n",
      "Requirement already satisfied: fonttools>=4.22.0 in /home/thu/miniconda3/lib/python3.12/site-packages (from matplotlib->catboost) (4.57.0)\n",
      "Requirement already satisfied: kiwisolver>=1.3.1 in /home/thu/miniconda3/lib/python3.12/site-packages (from matplotlib->catboost) (1.4.8)\n",
      "Requirement already satisfied: packaging>=20.0 in /home/thu/miniconda3/lib/python3.12/site-packages (from matplotlib->catboost) (23.2)\n",
      "Requirement already satisfied: pillow>=8 in /home/thu/miniconda3/lib/python3.12/site-packages (from matplotlib->catboost) (11.1.0)\n",
      "Requirement already satisfied: pyparsing>=2.3.1 in /home/thu/miniconda3/lib/python3.12/site-packages (from matplotlib->catboost) (3.2.3)\n",
      "Requirement already satisfied: narwhals>=1.15.1 in /home/thu/miniconda3/lib/python3.12/site-packages (from plotly->catboost) (1.34.0)\n",
      "Downloading catboost-1.2.8-cp312-cp312-manylinux2014_x86_64.whl (99.2 MB)\n",
      "\u001b[2K   \u001b[90m━━━━━━━━━━━━━━━━━━━━━━━━━━━━━━━━━━━━━━━━\u001b[0m \u001b[32m99.2/99.2 MB\u001b[0m \u001b[31m13.1 MB/s\u001b[0m eta \u001b[36m0:00:00\u001b[0m00:01\u001b[0m00:01\u001b[0m\n",
      "\u001b[?25hDownloading graphviz-0.20.3-py3-none-any.whl (47 kB)\n",
      "Downloading plotly-6.0.1-py3-none-any.whl (14.8 MB)\n",
      "\u001b[2K   \u001b[90m━━━━━━━━━━━━━━━━━━━━━━━━━━━━━━━━━━━━━━━━\u001b[0m \u001b[32m14.8/14.8 MB\u001b[0m \u001b[31m11.7 MB/s\u001b[0m eta \u001b[36m0:00:00\u001b[0m00:01\u001b[0m00:01\u001b[0m\n",
      "\u001b[?25hInstalling collected packages: plotly, graphviz, catboost\n",
      "Successfully installed catboost-1.2.8 graphviz-0.20.3 plotly-6.0.1\n",
      "Note: you may need to restart the kernel to use updated packages.\n"
     ]
    }
   ],
   "source": [
    "%pip -q install xgboost\n",
    "%pip -q install catboost"
   ]
  },
  {
   "cell_type": "code",
   "execution_count": 32,
   "id": "eda1ac5e",
   "metadata": {},
   "outputs": [],
   "source": [
    "import pandas as pd\n",
    "import numpy as np\n",
    "import matplotlib.pyplot as plt\n",
    "import seaborn as sns\n",
    "from sklearn.model_selection import RandomizedSearchCV, StratifiedKFold\n",
    "from sklearn.ensemble import RandomForestClassifier\n",
    "from xgboost import XGBClassifier\n",
    "from catboost import CatBoostClassifier\n",
    "from sklearn import metrics\n",
    "from sklearn.metrics import confusion_matrix, ConfusionMatrixDisplay\n",
    "import pickle\n",
    "import json\n",
    "from time_series_split import *"
   ]
  },
  {
   "cell_type": "code",
   "execution_count": 2,
   "id": "1b13ce50",
   "metadata": {},
   "outputs": [],
   "source": [
    "def calculate_aqi(pm25):\n",
    "    ranges = [\n",
    "        (0.0, 12.0, 0, 50),\n",
    "        (12.1, 35.4, 51, 100),\n",
    "        (35.5, 55.4, 101, 150),\n",
    "        (55.5, 150.4, 151, 200),\n",
    "        (150.5, 250.4, 201, 300),\n",
    "        (250.5, 500.0, 301, 500),\n",
    "    ]\n",
    "    for c_low, c_high, aqi_low, aqi_high in ranges:\n",
    "        if c_low <= pm25 <= c_high:\n",
    "            return round((aqi_high - aqi_low) / (c_high - c_low) * (pm25 - c_low) + aqi_low)\n",
    "    return 500  # default nếu vượt ngưỡng\n",
    "\n",
    "def aqi_class(aqi):\n",
    "    if aqi <= 50: return 0\n",
    "    elif aqi <= 100: return 1\n",
    "    elif aqi <= 150: return 2\n",
    "    elif aqi <= 200: return 3\n",
    "    elif aqi <= 300: return 4\n",
    "    else: return 5"
   ]
  },
  {
   "cell_type": "code",
   "execution_count": 3,
   "id": "c5fd8513",
   "metadata": {},
   "outputs": [],
   "source": [
    "combined_data = pd.read_csv('/home/thu/INT3041E_AI_PM2.5-Concentration-Estimation/data/consolidation/remotesensing_atmospheric.csv')\n",
    "combined_data['AQI'] = combined_data['pm25'].apply(calculate_aqi)\n",
    "combined_data['AQI_Class'] = combined_data['AQI'].apply(aqi_class)"
   ]
  },
  {
   "cell_type": "code",
   "execution_count": 4,
   "id": "7c816ec2",
   "metadata": {},
   "outputs": [
    {
     "data": {
      "text/html": [
       "<div>\n",
       "<style scoped>\n",
       "    .dataframe tbody tr th:only-of-type {\n",
       "        vertical-align: middle;\n",
       "    }\n",
       "\n",
       "    .dataframe tbody tr th {\n",
       "        vertical-align: top;\n",
       "    }\n",
       "\n",
       "    .dataframe thead th {\n",
       "        text-align: right;\n",
       "    }\n",
       "</style>\n",
       "<table border=\"1\" class=\"dataframe\">\n",
       "  <thead>\n",
       "    <tr style=\"text-align: right;\">\n",
       "      <th></th>\n",
       "      <th>time</th>\n",
       "      <th>ID</th>\n",
       "      <th>pm25</th>\n",
       "      <th>lat</th>\n",
       "      <th>lon</th>\n",
       "      <th>SQRT_SEA_DEM_LAT</th>\n",
       "      <th>WSPD</th>\n",
       "      <th>WDIR</th>\n",
       "      <th>TMP</th>\n",
       "      <th>TX</th>\n",
       "      <th>...</th>\n",
       "      <th>NDVI</th>\n",
       "      <th>CO</th>\n",
       "      <th>HCHO</th>\n",
       "      <th>NO2</th>\n",
       "      <th>SO2</th>\n",
       "      <th>CLOUD</th>\n",
       "      <th>O3</th>\n",
       "      <th>AAI</th>\n",
       "      <th>AQI</th>\n",
       "      <th>AQI_Class</th>\n",
       "    </tr>\n",
       "  </thead>\n",
       "  <tbody>\n",
       "    <tr>\n",
       "      <th>0</th>\n",
       "      <td>2020-01-01</td>\n",
       "      <td>19</td>\n",
       "      <td>116.949130</td>\n",
       "      <td>21.049750</td>\n",
       "      <td>105.741870</td>\n",
       "      <td>5.922647</td>\n",
       "      <td>1.136119</td>\n",
       "      <td>145.942749</td>\n",
       "      <td>20.811243</td>\n",
       "      <td>23.219995</td>\n",
       "      <td>...</td>\n",
       "      <td>0.000551</td>\n",
       "      <td>0.045586</td>\n",
       "      <td>0.000060</td>\n",
       "      <td>0.000072</td>\n",
       "      <td>0.000035</td>\n",
       "      <td>0.711612</td>\n",
       "      <td>0.101653</td>\n",
       "      <td>-0.836203</td>\n",
       "      <td>183</td>\n",
       "      <td>3</td>\n",
       "    </tr>\n",
       "    <tr>\n",
       "      <th>1</th>\n",
       "      <td>2020-01-01</td>\n",
       "      <td>79</td>\n",
       "      <td>105.103043</td>\n",
       "      <td>21.015250</td>\n",
       "      <td>105.800130</td>\n",
       "      <td>4.307231</td>\n",
       "      <td>1.136119</td>\n",
       "      <td>145.942749</td>\n",
       "      <td>20.811243</td>\n",
       "      <td>23.219995</td>\n",
       "      <td>...</td>\n",
       "      <td>-0.003006</td>\n",
       "      <td>0.041913</td>\n",
       "      <td>0.000107</td>\n",
       "      <td>0.000086</td>\n",
       "      <td>0.000056</td>\n",
       "      <td>0.761720</td>\n",
       "      <td>0.103635</td>\n",
       "      <td>-0.718537</td>\n",
       "      <td>177</td>\n",
       "      <td>3</td>\n",
       "    </tr>\n",
       "    <tr>\n",
       "      <th>2</th>\n",
       "      <td>2020-01-01</td>\n",
       "      <td>163</td>\n",
       "      <td>118.285100</td>\n",
       "      <td>21.024347</td>\n",
       "      <td>106.017288</td>\n",
       "      <td>4.988467</td>\n",
       "      <td>0.651509</td>\n",
       "      <td>145.395233</td>\n",
       "      <td>20.677492</td>\n",
       "      <td>23.029993</td>\n",
       "      <td>...</td>\n",
       "      <td>0.004388</td>\n",
       "      <td>0.042329</td>\n",
       "      <td>0.000108</td>\n",
       "      <td>0.000071</td>\n",
       "      <td>0.000026</td>\n",
       "      <td>0.867689</td>\n",
       "      <td>0.102144</td>\n",
       "      <td>-0.942304</td>\n",
       "      <td>183</td>\n",
       "      <td>3</td>\n",
       "    </tr>\n",
       "    <tr>\n",
       "      <th>3</th>\n",
       "      <td>2020-01-01</td>\n",
       "      <td>300</td>\n",
       "      <td>116.739130</td>\n",
       "      <td>21.023532</td>\n",
       "      <td>105.853941</td>\n",
       "      <td>4.865087</td>\n",
       "      <td>1.136119</td>\n",
       "      <td>145.942749</td>\n",
       "      <td>20.811243</td>\n",
       "      <td>23.219995</td>\n",
       "      <td>...</td>\n",
       "      <td>-0.001733</td>\n",
       "      <td>0.041913</td>\n",
       "      <td>0.000097</td>\n",
       "      <td>0.000085</td>\n",
       "      <td>0.000079</td>\n",
       "      <td>0.779294</td>\n",
       "      <td>0.102875</td>\n",
       "      <td>-0.692613</td>\n",
       "      <td>183</td>\n",
       "      <td>3</td>\n",
       "    </tr>\n",
       "    <tr>\n",
       "      <th>4</th>\n",
       "      <td>2020-01-02</td>\n",
       "      <td>19</td>\n",
       "      <td>76.856667</td>\n",
       "      <td>21.049750</td>\n",
       "      <td>105.741870</td>\n",
       "      <td>5.922647</td>\n",
       "      <td>2.744283</td>\n",
       "      <td>147.084442</td>\n",
       "      <td>22.176249</td>\n",
       "      <td>25.119989</td>\n",
       "      <td>...</td>\n",
       "      <td>0.016035</td>\n",
       "      <td>0.042298</td>\n",
       "      <td>0.000115</td>\n",
       "      <td>0.000082</td>\n",
       "      <td>-0.000345</td>\n",
       "      <td>0.705396</td>\n",
       "      <td>0.103488</td>\n",
       "      <td>-1.119681</td>\n",
       "      <td>162</td>\n",
       "      <td>3</td>\n",
       "    </tr>\n",
       "  </tbody>\n",
       "</table>\n",
       "<p>5 rows × 24 columns</p>\n",
       "</div>"
      ],
      "text/plain": [
       "         time   ID        pm25        lat         lon  SQRT_SEA_DEM_LAT  \\\n",
       "0  2020-01-01   19  116.949130  21.049750  105.741870          5.922647   \n",
       "1  2020-01-01   79  105.103043  21.015250  105.800130          4.307231   \n",
       "2  2020-01-01  163  118.285100  21.024347  106.017288          4.988467   \n",
       "3  2020-01-01  300  116.739130  21.023532  105.853941          4.865087   \n",
       "4  2020-01-02   19   76.856667  21.049750  105.741870          5.922647   \n",
       "\n",
       "       WSPD        WDIR        TMP         TX  ...      NDVI        CO  \\\n",
       "0  1.136119  145.942749  20.811243  23.219995  ...  0.000551  0.045586   \n",
       "1  1.136119  145.942749  20.811243  23.219995  ... -0.003006  0.041913   \n",
       "2  0.651509  145.395233  20.677492  23.029993  ...  0.004388  0.042329   \n",
       "3  1.136119  145.942749  20.811243  23.219995  ... -0.001733  0.041913   \n",
       "4  2.744283  147.084442  22.176249  25.119989  ...  0.016035  0.042298   \n",
       "\n",
       "       HCHO       NO2       SO2     CLOUD        O3       AAI  AQI  AQI_Class  \n",
       "0  0.000060  0.000072  0.000035  0.711612  0.101653 -0.836203  183          3  \n",
       "1  0.000107  0.000086  0.000056  0.761720  0.103635 -0.718537  177          3  \n",
       "2  0.000108  0.000071  0.000026  0.867689  0.102144 -0.942304  183          3  \n",
       "3  0.000097  0.000085  0.000079  0.779294  0.102875 -0.692613  183          3  \n",
       "4  0.000115  0.000082 -0.000345  0.705396  0.103488 -1.119681  162          3  \n",
       "\n",
       "[5 rows x 24 columns]"
      ]
     },
     "execution_count": 4,
     "metadata": {},
     "output_type": "execute_result"
    }
   ],
   "source": [
    "combined_data.head()"
   ]
  },
  {
   "cell_type": "code",
   "execution_count": 5,
   "id": "fe5a324c",
   "metadata": {},
   "outputs": [
    {
     "name": "stdout",
     "output_type": "stream",
     "text": [
      "Number of folds: 3\n"
     ]
    }
   ],
   "source": [
    "# folds = split_original_data()\n",
    "folds = split_consolidated_data()\n",
    "print(f\"Number of folds: {len(folds)}\")"
   ]
  },
  {
   "cell_type": "code",
   "execution_count": 34,
   "id": "2f0b9627",
   "metadata": {},
   "outputs": [],
   "source": [
    "fold = folds[0]\n",
    "train_data = fold['train']\n",
    "val_data = fold['validation']\n",
    "test_data = fold['test']"
   ]
  },
  {
   "cell_type": "code",
   "execution_count": 35,
   "id": "5192f4ef",
   "metadata": {},
   "outputs": [],
   "source": [
    "# Chuẩn bị features và target từ các DataFrame\n",
    "# Features: Loại trừ pm25, AQI, AQI_Class (tương tự cột 2 đến -2 trong combined_data)\n",
    "feature_columns = train_data.columns[2:-2]  # Từ cột 2 (lat) đến cột -2 (AAI)\n",
    "\n",
    "X_train = train_data[feature_columns]\n",
    "y_train = train_data['AQI_Class']\n",
    "\n",
    "X_val = val_data[feature_columns]\n",
    "y_val = val_data['AQI_Class']\n",
    "\n",
    "X_test = test_data[feature_columns]\n",
    "y_test = test_data['AQI_Class']"
   ]
  },
  {
   "cell_type": "code",
   "execution_count": 36,
   "id": "b852f8e4",
   "metadata": {},
   "outputs": [
    {
     "name": "stdout",
     "output_type": "stream",
     "text": [
      "X_train shape: (10193, 20), y_train shape: (10193,)\n",
      "X_val shape: (366, 20), y_val shape: (366,)\n",
      "X_test shape: (327, 20), y_test shape: (327,)\n"
     ]
    }
   ],
   "source": [
    "print(f\"X_train shape: {X_train.shape}, y_train shape: {y_train.shape}\")\n",
    "print(f\"X_val shape: {X_val.shape}, y_val shape: {y_val.shape}\")\n",
    "print(f\"X_test shape: {X_test.shape}, y_test shape: {y_test.shape}\")"
   ]
  },
  {
   "cell_type": "markdown",
   "id": "ebb8b83b",
   "metadata": {},
   "source": [
    "## Tuning parameters"
   ]
  },
  {
   "cell_type": "code",
   "execution_count": 33,
   "id": "b28f17c5",
   "metadata": {},
   "outputs": [],
   "source": [
    "strat_kfold = StratifiedKFold(n_splits=5, shuffle=True, random_state=43)"
   ]
  },
  {
   "cell_type": "markdown",
   "id": "87fc9c74",
   "metadata": {},
   "source": [
    "**RandomForest**"
   ]
  },
  {
   "cell_type": "code",
   "execution_count": null,
   "id": "00a3e08a",
   "metadata": {},
   "outputs": [],
   "source": [
    "rf_params = {\n",
    "    'n_estimators': [int(x) for x in np.linspace(100, 1200, 12)],\n",
    "    'max_features': ['sqrt', 'log2'],\n",
    "    'max_depth': [int(x) for x in np.linspace(5, 30, 6)],\n",
    "    'min_samples_split': [2, 5, 10],\n",
    "    'min_samples_leaf': [1, 2, 4]\n",
    "}\n",
    "rf_model = RandomForestClassifier(random_state=43, class_weight='balanced')\n",
    "rf_search = RandomizedSearchCV(rf_model, rf_params, cv=strat_kfold, scoring='accuracy', n_iter=50, n_jobs=-1, random_state=43)\n",
    "rf_search.fit(X_train, y_train)\n",
    "rf_val_acc = rf_search.score(X_val, y_val)"
   ]
  },
  {
   "cell_type": "markdown",
   "id": "28cff9d7",
   "metadata": {},
   "source": [
    "**XGBoost**"
   ]
  },
  {
   "cell_type": "code",
   "execution_count": null,
   "id": "38884d9f",
   "metadata": {},
   "outputs": [],
   "source": [
    "xgb_params = {\n",
    "    'n_estimators': [100, 300, 500],\n",
    "    'max_depth': [3, 6, 10],\n",
    "    'learning_rate': [0.01, 0.1, 0.3],\n",
    "    'subsample': [0.6, 0.8, 1.0],\n",
    "    'colsample_bytree': [0.6, 0.8, 1.0]\n",
    "}\n",
    "xgb_model = XGBClassifier(random_state=43, objective='multi:softmax', num_class=6, use_label_encoder=False, eval_metric='mlogloss')\n",
    "xgb_search = RandomizedSearchCV(xgb_model, xgb_params, cv=strat_kfold, scoring='accuracy', n_iter=30, n_jobs=-1, random_state=43)\n",
    "xgb_search.fit(X_train, y_train)\n",
    "xgb_val_acc = xgb_search.score(X_val, y_val)\n"
   ]
  },
  {
   "cell_type": "markdown",
   "id": "f40f87df",
   "metadata": {},
   "source": [
    "**CatBoost**"
   ]
  },
  {
   "cell_type": "code",
   "execution_count": null,
   "id": "4e97467d",
   "metadata": {},
   "outputs": [],
   "source": [
    "cat_model = CatBoostClassifier(verbose=0, random_state=43)\n",
    "cat_params = {\n",
    "    'iterations': [100, 300, 500],\n",
    "    'depth': [4, 6, 8],\n",
    "    'learning_rate': [0.01, 0.1, 0.3],\n",
    "    'l2_leaf_reg': [1, 3, 5, 7]\n",
    "}\n",
    "cat_search = RandomizedSearchCV(cat_model, cat_params, cv=strat_kfold, scoring='accuracy', n_iter=30, n_jobs=-1, random_state=43)\n",
    "cat_search.fit(X_train, y_train)\n",
    "cat_val_acc = cat_search.score(X_val, y_val)\n"
   ]
  },
  {
   "cell_type": "code",
   "execution_count": null,
   "id": "a062f6fe",
   "metadata": {},
   "outputs": [],
   "source": [
    "models = {\n",
    "    'RandomForest': (rf_search, rf_val_acc),\n",
    "    'XGBoost': (xgb_search, xgb_val_acc),\n",
    "    'CatBoost': (cat_search, cat_val_acc)\n",
    "}\n",
    "\n",
    "best_model_name = max(models, key=lambda k: models[k][1])\n",
    "best_search, best_val_acc = models[best_model_name]\n",
    "best_clf = best_search.best_estimator_\n",
    "pred = best_clf.predict(X_test)"
   ]
  },
  {
   "cell_type": "code",
   "execution_count": null,
   "id": "e9bdbf97",
   "metadata": {},
   "outputs": [],
   "source": [
    "print(f\"Best Model: {best_model_name}\")\n",
    "print(f\"Validation Accuracy: {best_val_acc:.4f}\")"
   ]
  },
  {
   "cell_type": "code",
   "execution_count": null,
   "id": "24981ad0",
   "metadata": {},
   "outputs": [],
   "source": [
    "# --- Trực quan hóa và đánh giá ---\n",
    "sns.histplot(y_test - pred, kde=True)\n",
    "plt.title(f'{best_model_name} - Prediction Error Distribution')\n",
    "plt.xlabel('Prediction Error')\n",
    "plt.ylabel('Count')\n",
    "plt.show()"
   ]
  },
  {
   "cell_type": "code",
   "execution_count": null,
   "id": "f6dc0d3c",
   "metadata": {},
   "outputs": [],
   "source": [
    "all_labels = [0, 1, 2, 3, 4, 5]\n",
    "target_names = ['Good', 'Moderate', 'Unhealthy for Sensitive', 'Unhealthy', 'Very Unhealthy', 'Hazardous']\n",
    "\n",
    "cm = confusion_matrix(y_test, pred, labels=all_labels)\n",
    "disp = ConfusionMatrixDisplay(confusion_matrix=cm, display_labels=target_names)\n",
    "disp.plot(xticks_rotation=45)\n",
    "plt.title(f'{best_model_name} - Confusion Matrix')\n",
    "plt.show()"
   ]
  },
  {
   "cell_type": "code",
   "execution_count": null,
   "id": "53a847c1",
   "metadata": {},
   "outputs": [],
   "source": [
    "print(f\"Test Accuracy: {metrics.accuracy_score(y_test, pred):.4f}\")\n",
    "print(\"Classification Report (Test Set):\")\n",
    "print(metrics.classification_report(y_test, pred, labels=all_labels, target_names=target_names, zero_division=1))"
   ]
  },
  {
   "cell_type": "code",
   "execution_count": null,
   "metadata": {},
   "outputs": [],
   "source": [
    "# Feature Importance (nếu hỗ trợ)\n",
    "try:\n",
    "    importances = best_clf.feature_importances_\n",
    "    indices = np.argsort(importances)[::-1]\n",
    "    plt.figure(figsize=(10, 6))\n",
    "    sns.barplot(x=importances[indices], y=X_train.columns[indices])\n",
    "    plt.title(f'{best_model_name} - Feature Importances')\n",
    "    plt.xlabel('Importance Score')\n",
    "    plt.ylabel('Features')\n",
    "    plt.tight_layout()\n",
    "    plt.show()\n",
    "except:\n",
    "    print(\"This model does not support feature_importances_.\")"
   ]
  },
  {
   "cell_type": "code",
   "execution_count": null,
   "id": "25275763",
   "metadata": {},
   "outputs": [],
   "source": [
    "# Lưu model & metadata\n",
    "pickle.dump(best_clf, open(f'{best_model_name.lower()}-classifier-tuning.pkl', 'wb'))"
   ]
  },
  {
   "cell_type": "code",
   "execution_count": null,
   "id": "3e464b6a",
   "metadata": {},
   "outputs": [],
   "source": [
    "metadata = {\n",
    "    \"model_name\": best_model_name,\n",
    "    \"best_params\": best_search.best_params_,\n",
    "    \"val_accuracy\": best_val_acc,\n",
    "    \"test_accuracy\": metrics.accuracy_score(y_test, pred),\n",
    "    \"features\": list(feature_columns),\n",
    "    \"classes\": sorted(list(set(y_train)))\n",
    "}\n",
    "with open(f\"{best_model_name.lower()}_metadata.json\", \"w\") as f:\n",
    "    json.dump(metadata, f, indent=4)"
   ]
  },
  {
   "cell_type": "markdown",
   "id": "4582335d",
   "metadata": {},
   "source": [
    "**RandomForest**"
   ]
  },
  {
   "cell_type": "code",
   "execution_count": null,
   "id": "2010afc1",
   "metadata": {},
   "outputs": [],
   "source": [
    "# # Tinh chỉnh siêu tham số trên tập validation\n",
    "# n_estimators = [int(x) for x in np.linspace(start=100, stop=1200, num=12)]\n",
    "# max_features = ['sqrt', 'log2']\n",
    "# max_depth = [int(x) for x in np.linspace(5, 30, num=6)]\n",
    "# min_samples_split = [2, 5, 10, 15, 20]\n",
    "# min_samples_leaf = [1, 2, 5, 10]\n",
    "\n",
    "# params = {\n",
    "#     'n_estimators': n_estimators,\n",
    "#     'max_features': max_features,\n",
    "#     'max_depth': max_depth,\n",
    "#     'min_samples_split': min_samples_split,\n",
    "#     'min_samples_leaf': min_samples_leaf\n",
    "# }"
   ]
  },
  {
   "cell_type": "code",
   "execution_count": null,
   "id": "e444e83b",
   "metadata": {},
   "outputs": [],
   "source": [
    "# clf = RandomForestClassifier(random_state=43, class_weight='balanced')\n",
    "# strat_kfold = StratifiedKFold(n_splits=5, shuffle=True, random_state=43)\n",
    "\n",
    "# search = RandomizedSearchCV(clf, params, scoring='accuracy', cv=strat_kfold, n_iter=100, n_jobs=-1, random_state=43)\n",
    "# search.fit(X_train, y_train)\n",
    "# val_accuracy = search.score(X_val, y_val)"
   ]
  },
  {
   "cell_type": "code",
   "execution_count": null,
   "id": "209adee5",
   "metadata": {},
   "outputs": [
    {
     "name": "stdout",
     "output_type": "stream",
     "text": [
      "Best parameters: {'n_estimators': 1200, 'min_samples_split': 15, 'min_samples_leaf': 2, 'max_features': 'log2', 'max_depth': 15}\n",
      "Best accuracy on validation set: 0.9945\n"
     ]
    }
   ],
   "source": [
    "# print(f\"Best parameters: {search.best_params_}\")\n",
    "# print(f\"Best accuracy on validation set: {val_accuracy:.4f}\")"
   ]
  },
  {
   "cell_type": "code",
   "execution_count": null,
   "id": "32f037b8",
   "metadata": {},
   "outputs": [
    {
     "name": "stdout",
     "output_type": "stream",
     "text": [
      "    mean_test_score  std_test_score  \\\n",
      "21         0.994408        0.000590   \n",
      "83         0.994310        0.000797   \n",
      "42         0.994310        0.000735   \n",
      "10         0.994212        0.000481   \n",
      "37         0.994212        0.000481   \n",
      "\n",
      "                                               params  \n",
      "21  {'n_estimators': 1200, 'min_samples_split': 15...  \n",
      "83  {'n_estimators': 500, 'min_samples_split': 15,...  \n",
      "42  {'n_estimators': 800, 'min_samples_split': 15,...  \n",
      "10  {'n_estimators': 600, 'min_samples_split': 20,...  \n",
      "37  {'n_estimators': 600, 'min_samples_split': 20,...  \n"
     ]
    }
   ],
   "source": [
    "# results_df = pd.DataFrame(search.cv_results_)\n",
    "# print(results_df[['mean_test_score', 'std_test_score', 'params']].sort_values(by='mean_test_score', ascending=False).head())"
   ]
  },
  {
   "cell_type": "code",
   "execution_count": null,
   "id": "22891215",
   "metadata": {},
   "outputs": [],
   "source": [
    "# # Dự đoán trên test set\n",
    "# best_clf = search.best_estimator_\n",
    "# pred = best_clf.predict(X_test)"
   ]
  },
  {
   "cell_type": "code",
   "execution_count": null,
   "id": "5248927f",
   "metadata": {},
   "outputs": [
    {
     "data": {
      "image/png": "[encoded data removed]",
      "text/plain": [
       "<Figure size 640x480 with 1 Axes>"
      ]
     },
     "metadata": {},
     "output_type": "display_data"
    }
   ],
   "source": [
    "# # Trực quan lỗi dự đoán\n",
    "# sns.histplot(y_test - pred, kde=True)\n",
    "# plt.title('Distribution of Prediction Errors (Test Set)')\n",
    "# plt.xlabel('Prediction Error')\n",
    "# plt.ylabel('Count')\n",
    "# plt.show()"
   ]
  },
  {
   "cell_type": "code",
   "execution_count": null,
   "id": "54649692",
   "metadata": {},
   "outputs": [
    {
     "name": "stdout",
     "output_type": "stream",
     "text": [
      "Unique labels in y_test: {0, 1, 2, 3, 5}\n",
      "Unique labels in pred: {np.int64(0), np.int64(1), np.int64(2), np.int64(3)}\n"
     ]
    }
   ],
   "source": [
    "# print(\"Unique labels in y_test:\", set(y_test))\n",
    "# print(\"Unique labels in pred:\", set(pred))"
   ]
  },
  {
   "cell_type": "code",
   "execution_count": 21,
   "id": "1b535645",
   "metadata": {},
   "outputs": [
    {
     "data": {
      "image/png": "[encoded data removed]",
      "text/plain": [
       "<Figure size 640x480 with 2 Axes>"
      ]
     },
     "metadata": {},
     "output_type": "display_data"
    }
   ],
   "source": [
    "# # Confusion Matrix\n",
    "# cm = confusion_matrix(y_test, pred)\n",
    "# disp = ConfusionMatrixDisplay(confusion_matrix=cm, display_labels=[\n",
    "#     'Good', 'Moderate', 'Unhealthy for Sensitive', 'Unhealthy', 'Very Unhealthy', 'Hazardous'])\n",
    "# disp.plot(xticks_rotation=45)\n",
    "# plt.title('Confusion Matrix on Test Set')\n",
    "# plt.show()\n",
    "\n",
    "all_labels = [0, 1, 2, 3, 4, 5]\n",
    "cm = confusion_matrix(y_test, pred, labels=all_labels)\n",
    "disp = ConfusionMatrixDisplay(confusion_matrix=cm, display_labels=[\n",
    "    'Good', 'Moderate', 'Unhealthy for Sensitive', 'Unhealthy', 'Very Unhealthy', 'Hazardous'])\n",
    "disp.plot(xticks_rotation=45)\n",
    "plt.title('Confusion Matrix on Test Set')\n",
    "plt.show()"
   ]
  },
  {
   "cell_type": "code",
   "execution_count": 16,
   "id": "4f9a8292",
   "metadata": {},
   "outputs": [],
   "source": [
    "# Feature importance\n",
    "importances = best_clf.feature_importances_\n",
    "indices = np.argsort(importances)[::-1]"
   ]
  },
  {
   "cell_type": "code",
   "execution_count": 17,
   "id": "d45366c6",
   "metadata": {},
   "outputs": [
    {
     "data": {
      "image/png": "[encoded data removed]",
      "text/plain": [
       "<Figure size 1000x600 with 1 Axes>"
      ]
     },
     "metadata": {},
     "output_type": "display_data"
    }
   ],
   "source": [
    "plt.figure(figsize=(10, 6))\n",
    "sns.barplot(x=importances[indices], y=X_train.columns[indices])\n",
    "plt.title('Feature Importances')\n",
    "plt.xlabel('Importance Score')\n",
    "plt.ylabel('Features')\n",
    "plt.tight_layout()\n",
    "plt.show()"
   ]
  },
  {
   "cell_type": "code",
   "execution_count": 27,
   "id": "98cc7778",
   "metadata": {},
   "outputs": [
    {
     "name": "stdout",
     "output_type": "stream",
     "text": [
      "Accuracy on test set: 0.9939\n",
      "Classification Report (Test Set):\n",
      "                         precision    recall  f1-score   support\n",
      "\n",
      "                   Good       1.00      1.00      1.00       120\n",
      "               Moderate       0.99      1.00      1.00       117\n",
      "Unhealthy for Sensitive       0.98      1.00      0.99        51\n",
      "              Unhealthy       1.00      0.97      0.99        38\n",
      "         Very Unhealthy       1.00      1.00      1.00         0\n",
      "              Hazardous       1.00      0.00      0.00         1\n",
      "\n",
      "               accuracy                           0.99       327\n",
      "              macro avg       1.00      0.83      0.83       327\n",
      "           weighted avg       0.99      0.99      0.99       327\n",
      "\n",
      "Unique labels in y_test: {0, 1, 2, 3, 5}\n",
      "Unique labels in pred: {np.int64(0), np.int64(1), np.int64(2), np.int64(3)}\n"
     ]
    }
   ],
   "source": [
    "all_labels = [0, 1, 2, 3, 4, 5]\n",
    "target_names = ['Good', 'Moderate', 'Unhealthy for Sensitive', 'Unhealthy', 'Very Unhealthy', 'Hazardous']\n",
    "\n",
    "# Đánh giá chi tiết\n",
    "print(f\"Accuracy on test set: {metrics.accuracy_score(y_test, pred):.4f}\")\n",
    "print(\"Classification Report (Test Set):\")\n",
    "print(metrics.classification_report(y_test, pred, labels=all_labels, target_names=target_names, zero_division=1))\n",
    "\n",
    "print(\"Unique labels in y_test:\", set(y_test))\n",
    "print(\"Unique labels in pred:\", set(pred))"
   ]
  },
  {
   "cell_type": "code",
   "execution_count": 28,
   "id": "de7531b1",
   "metadata": {},
   "outputs": [],
   "source": [
    "pickle.dump(best_clf, open('randomforest-classifier-tuning.pkl', 'wb'))"
   ]
  },
  {
   "cell_type": "code",
   "execution_count": 29,
   "id": "4fd66ada",
   "metadata": {},
   "outputs": [],
   "source": [
    "# Lưu metadata\n",
    "metadata = {\n",
    "    \"best_params\": search.best_params_,\n",
    "    \"val_accuracy\": val_accuracy,\n",
    "    \"test_accuracy\": metrics.accuracy_score(y_test, pred),\n",
    "    \"features\": list(feature_columns),\n",
    "    \"classes\": sorted(list(set(y_train)))\n",
    "}\n",
    "with open(\"rf_metadata.json\", \"w\") as f:\n",
    "    json.dump(metadata, f, indent=4)"
   ]
  },
  {
   "cell_type": "markdown",
   "id": "98ee79f0",
   "metadata": {},
   "source": []
  },
  {
   "cell_type": "code",
   "execution_count": null,
   "id": "0080b3f4",
   "metadata": {},
   "outputs": [],
   "source": []
  }
 ],
 "metadata": {
  "kernelspec": {
   "display_name": "base",
   "language": "python",
   "name": "python3"
  },
  "language_info": {
   "codemirror_mode": {
    "name": "ipython",
    "version": 3
   },
   "file_extension": ".py",
   "mimetype": "text/x-python",
   "name": "python",
   "nbconvert_exporter": "python",
   "pygments_lexer": "ipython3",
   "version": "3.12.9"
  }
 },
 "nbformat": 4,
 "nbformat_minor": 5
}
