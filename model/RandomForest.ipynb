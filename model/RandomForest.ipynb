{
 "cells": [
  {
   "cell_type": "code",
   "execution_count": null,
   "id": "b9d93c0a",
   "metadata": {},
   "outputs": [],
   "source": [
    "import pandas as pd\n",
    "import numpy as np\n",
    "import matplotlib.pyplot as plt\n",
    "import seaborn as sns\n",
    "from sklearn.model_selection import cross_val_score, RandomizedSearchCV\n",
    "from sklearn.ensemble import RandomForestClassifier\n",
    "import sklearn.metrics as metrics\n",
    "import pickle\n",
    "from time_series_split import *"
   ]
  },
  {
   "cell_type": "code",
   "execution_count": null,
   "id": "3fae4b4c",
   "metadata": {},
   "outputs": [],
   "source": [
    "print(type(metrics))"
   ]
  },
  {
   "cell_type": "code",
   "execution_count": null,
   "id": "1b13ce50",
   "metadata": {},
   "outputs": [],
   "source": [
    "def calculate_aqi(pm25):\n",
    "    ranges = [\n",
    "        (0.0, 12.0, 0, 50),\n",
    "        (12.1, 35.4, 51, 100),\n",
    "        (35.5, 55.4, 101, 150),\n",
    "        (55.5, 150.4, 151, 200),\n",
    "        (150.5, 250.4, 201, 300),\n",
    "        (250.5, 500.0, 301, 500),\n",
    "    ]\n",
    "    for c_low, c_high, aqi_low, aqi_high in ranges:\n",
    "        if c_low <= pm25 <= c_high:\n",
    "            return round((aqi_high - aqi_low) / (c_high - c_low) * (pm25 - c_low) + aqi_low)\n",
    "    return 500  # default nếu vượt ngưỡng\n",
    "\n",
    "def aqi_class(aqi):\n",
    "    if aqi <= 50: return 0\n",
    "    elif aqi <= 100: return 1\n",
    "    elif aqi <= 150: return 2\n",
    "    elif aqi <= 200: return 3\n",
    "    elif aqi <= 300: return 4\n",
    "    else: return 5\n",
    "\n",
    "def aqi_bucket(aqi):\n",
    "    if aqi <= 50: return 'Good'\n",
    "    elif aqi <= 100: return 'Moderate'\n",
    "    elif aqi <= 150: return 'Unhealthy for Sensitive'\n",
    "    elif aqi <= 200: return 'Unhealthy'\n",
    "    elif aqi <= 300: return 'Very Unhealthy'\n",
    "    else: return 'Hazardous'"
   ]
  },
  {
   "cell_type": "code",
   "execution_count": null,
   "id": "6be809aa",
   "metadata": {},
   "outputs": [],
   "source": [
    "combined_data = pd.read_csv('/home/thu/INT3041E_AI_PM2.5-Concentration-Estimation/data/add_AQI.csv')\n",
    "combined_data.head()"
   ]
  },
  {
   "cell_type": "code",
   "execution_count": null,
   "id": "c5fd8513",
   "metadata": {},
   "outputs": [],
   "source": [
    "# Tính cột AQI từ PM2.5\n",
    "combined_data['AQI'] = combined_data['pm25'].apply(calculate_aqi)\n",
    "# Gán nhãn lớp AQI\n",
    "combined_data['AQI_Class'] = combined_data['AQI'].apply(aqi_class)\n",
    "combined_data['AQI_Bucket'] = combined_data['AQI'].apply(aqi_bucket)\n"
   ]
  },
  {
   "cell_type": "code",
   "execution_count": null,
   "id": "7c816ec2",
   "metadata": {},
   "outputs": [],
   "source": [
    "combined_data.head()"
   ]
  },
  {
   "cell_type": "code",
   "execution_count": null,
   "id": "fe5a324c",
   "metadata": {},
   "outputs": [],
   "source": [
    "# folds = split_original_data()\n",
    "folds = split_consolidated_data()\n",
    "print(f\"Number of folds: {len(folds)}\")"
   ]
  },
  {
   "cell_type": "code",
   "execution_count": null,
   "id": "57f8145b",
   "metadata": {},
   "outputs": [],
   "source": [
    "feature_columns = combined_data.columns[3:]\n",
    "feature_columns= feature_columns.drop(['AQI', 'AQI_Class'])\n",
    "feature_columns"
   ]
  },
  {
   "cell_type": "markdown",
   "id": "e141ab89",
   "metadata": {},
   "source": [
    "**Best paramters**"
   ]
  },
  {
   "cell_type": "code",
   "execution_count": null,
   "id": "3fae630f",
   "metadata": {},
   "outputs": [],
   "source": [
    "params = {\n",
    "    'n_estimators': 100,\n",
    "    'max_features': 'log2',\n",
    "    'max_depth': 16,\n",
    "    'min_samples_split': 2,\n",
    "    'min_samples_leaf': 2,\n",
    "    'random_state': 123,\n",
    "    'bootstrap': True,\n",
    "    'class_weight': 'balanced',\n",
    "    'criterion': 'gini',\n",
    "}"
   ]
  },
  {
   "cell_type": "code",
   "execution_count": null,
   "id": "1ccd8b71",
   "metadata": {},
   "outputs": [],
   "source": [
    "# Biến lưu nhãn thật và dự đoán trên toàn bộ test sets\n",
    "all_y_true = []\n",
    "all_y_pred = []"
   ]
  },
  {
   "cell_type": "code",
   "execution_count": null,
   "id": "b2911826",
   "metadata": {},
   "outputs": [],
   "source": [
    "# Danh sách để lưu kết quả từ mỗi fold\n",
    "val_accuracies = []\n",
    "test_accuracies = []\n",
    "test_classification_reports = []\n",
    "\n",
    "best_val_accuracy = 0\n",
    "best_model = None"
   ]
  },
  {
   "cell_type": "code",
   "execution_count": null,
   "id": "06747bb6",
   "metadata": {},
   "outputs": [],
   "source": [
    "all_target_names = ['Good', 'Moderate', 'Unhealthy for Sensitive', 'Unhealthy', 'Very Unhealthy', 'Hazardous']"
   ]
  },
  {
   "cell_type": "code",
   "execution_count": null,
   "id": "975fa3aa",
   "metadata": {},
   "outputs": [],
   "source": [
    "for i, fold in enumerate(folds):\n",
    "    print(f\"\\nProcessing Fold {i+1}/{len(folds)}\")\n",
    "\n",
    "    train_data = fold['train']\n",
    "    val_data = fold['validation']\n",
    "    test_data = fold['test']\n",
    "\n",
    "    feature_columns = train_data.columns[3:-2]\n",
    "    print(f\"Feature columns: {feature_columns}\")\n",
    "    # break\n",
    "    X_train = train_data[feature_columns]\n",
    "    y_train = train_data['AQI_Class']\n",
    "    X_val = val_data[feature_columns]\n",
    "    y_val = val_data['AQI_Class']\n",
    "    X_test = test_data[feature_columns]\n",
    "    y_test = test_data['AQI_Class']\n",
    "\n",
    "    # Huấn luyện mô hình Random Forest\n",
    "    clf = RandomForestClassifier(**params)\n",
    "    clf.fit(X_train, y_train)\n",
    "\n",
    "    train_acc = clf.score(X_train, y_train)\n",
    "    val_acc = clf.score(X_val, y_val)\n",
    "    test_acc = clf.score(X_test, y_test)\n",
    "\n",
    "    print(f\"Train Accuracy: {train_acc:.4f} | Validation Accuracy: {val_acc:.4f} | Test Accuracy: {test_acc:.4f}\")\n",
    "\n",
    "    val_accuracies.append(val_acc)\n",
    "    test_accuracies.append(test_acc)\n",
    "\n",
    "    if val_acc > best_val_accuracy:\n",
    "        best_val_accuracy = val_acc\n",
    "        best_model = clf\n",
    "\n",
    "    y_pred = clf.predict(X_test)\n",
    "    \n",
    "    # Lưu nhãn thật và nhãn dự đoán để tính tổng sau này\n",
    "    all_y_true.extend(y_test.tolist())\n",
    "    all_y_pred.extend(y_pred.tolist())\n",
    "\n",
    "    report = metrics.classification_report(y_test, y_pred, target_names=all_target_names, labels=[0,1,2,3,4,5], output_dict=True)\n",
    "    test_classification_reports.append(report)\n",
    "\n",
    "    # Biểu đồ sai số\n",
    "    sns.histplot(y_test - y_pred, kde=True)\n",
    "    plt.title(f'Fold {i+1} - Distribution of Prediction Errors')\n",
    "    plt.xlabel('Prediction Error')\n",
    "    plt.ylabel('Count')\n",
    "    plt.show()"
   ]
  },
  {
   "cell_type": "code",
   "execution_count": null,
   "id": "a03caf78",
   "metadata": {},
   "outputs": [],
   "source": [
    "mean_val_accuracy = np.mean(val_accuracies)\n",
    "mean_test_accuracy = np.mean(test_accuracies)\n",
    "print(f\"\\nAverage Validation Accuracy: {mean_val_accuracy:.4f}\")\n",
    "print(f\"Average Test Accuracy: {mean_test_accuracy:.4f}\")"
   ]
  },
  {
   "cell_type": "code",
   "execution_count": null,
   "id": "a2be3694",
   "metadata": {},
   "outputs": [],
   "source": []
  },
  {
   "cell_type": "code",
   "execution_count": null,
   "id": "21dfe4f5",
   "metadata": {},
   "outputs": [],
   "source": [
    "# Báo cáo trung bình từng lớp\n",
    "avg_report = {}\n",
    "for label in all_target_names:\n",
    "    precisions = [r[label]['precision'] for r in test_classification_reports if label in r]\n",
    "    recalls = [r[label]['recall'] for r in test_classification_reports if label in r]\n",
    "    f1_scores = [r[label]['f1-score'] for r in test_classification_reports if label in r]\n",
    "    supports = [r[label]['support'] for r in test_classification_reports if label in r]\n",
    "\n",
    "    avg_report[label] = {\n",
    "        'precision': np.mean(precisions),\n",
    "        'recall': np.mean(recalls),\n",
    "        'f1-score': np.mean(f1_scores),\n",
    "        'support': sum(supports),\n",
    "        'num_folds': len(precisions)\n",
    "    }\n",
    "\n",
    "# Weighted avg\n",
    "avg_report['weighted avg'] = {\n",
    "    'precision': np.mean([r['weighted avg']['precision'] for r in test_classification_reports]),\n",
    "    'recall': np.mean([r['weighted avg']['recall'] for r in test_classification_reports]),\n",
    "    'f1-score': np.mean([r['weighted avg']['f1-score'] for r in test_classification_reports]),\n",
    "    'support': sum([r['weighted avg']['support'] for r in test_classification_reports])\n",
    "}"
   ]
  },
  {
   "cell_type": "code",
   "execution_count": null,
   "id": "64e7e158",
   "metadata": {},
   "outputs": [],
   "source": [
    "# In ra report trung bình\n",
    "print(\"\\n📋 Average Classification Report:\")\n",
    "for label in sorted(avg_report.keys(), key=lambda x: x if x != 'weighted avg' else 'zzz'):\n",
    "    print(f\"{label}:\")\n",
    "    print(f\"  Precision: {avg_report[label]['precision']:.4f}\")\n",
    "    print(f\"  Recall: {avg_report[label]['recall']:.4f}\")\n",
    "    print(f\"  F1-score: {avg_report[label]['f1-score']:.4f}\")\n",
    "    print(f\"  Support: {avg_report[label]['support']:.0f}\")\n",
    "    if label != 'weighted avg':\n",
    "        print(f\"  Number of folds with this class: {avg_report[label]['num_folds']}\")\n"
   ]
  },
  {
   "cell_type": "code",
   "execution_count": null,
   "id": "b7b4dac4",
   "metadata": {},
   "outputs": [],
   "source": [
    "# Tính và in classification report tổng tất cả sample\n",
    "final_report = metrics.classification_report(\n",
    "    all_y_true, all_y_pred,\n",
    "    target_names=all_target_names,\n",
    "    labels=[0, 1, 2, 3, 4, 5]\n",
    ")\n",
    "\n",
    "print(\"\\n\" + \"=\"*60)\n",
    "print(\"Overall Classification Report for ALL Samples\")\n",
    "print(\"=\"*60)\n",
    "print(final_report)"
   ]
  },
  {
   "cell_type": "code",
   "execution_count": null,
   "id": "77ab0952",
   "metadata": {},
   "outputs": [],
   "source": [
    "# Báo cáo dạng dict để trích F1 tổng thể\n",
    "report_dict = metrics.classification_report(\n",
    "    all_y_true, all_y_pred,\n",
    "    target_names=all_target_names,\n",
    "    labels=[0,1,2,3,4,5],\n",
    "    output_dict=True\n",
    ")\n",
    "\n",
    "overall_f1 = report_dict[\"weighted avg\"][\"f1-score\"]\n",
    "overall_support = report_dict[\"weighted avg\"][\"support\"]\n",
    "print(f\"Weighted F1-score: {overall_f1:.4f} | Total Samples: {int(overall_support)}\")\n"
   ]
  },
  {
   "cell_type": "code",
   "execution_count": null,
   "id": "1f3cc93e",
   "metadata": {},
   "outputs": [],
   "source": [
    "# Lưu mô hình tốt nhất\n",
    "pickle.dump(best_model, open('checkpoint/randomforest-aqi-classifier.pkl', 'wb'))\n",
    "print(\"\\nBest model saved as 'randomforest-aqi-classifier.pkl'\")"
   ]
  }
 ],
 "metadata": {
  "kernelspec": {
   "display_name": "Python 3",
   "language": "python",
   "name": "python3"
  },
  "language_info": {
   "codemirror_mode": {
    "name": "ipython",
    "version": 3
   },
   "file_extension": ".py",
   "mimetype": "text/x-python",
   "name": "python",
   "nbconvert_exporter": "python",
   "pygments_lexer": "ipython3",
   "version": "3.10.12"
  }
 },
 "nbformat": 4,
 "nbformat_minor": 5
}
