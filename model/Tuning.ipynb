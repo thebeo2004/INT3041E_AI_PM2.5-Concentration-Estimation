{
 "cells": [
  {
   "cell_type": "code",
   "execution_count": null,
   "id": "f5dd48e9",
   "metadata": {},
   "outputs": [],
   "source": [
    "import pandas as pd\n",
    "import numpy as np\n",
    "import matplotlib.pyplot as plt\n",
    "import seaborn as sns\n",
    "from sklearn.model_selection import RandomizedSearchCV, StratifiedKFold\n",
    "from sklearn.ensemble import RandomForestClassifier\n",
    "from xgboost import XGBClassifier\n",
    "from catboost import CatBoostClassifier\n",
    "from sklearn import metrics\n",
    "from sklearn.metrics import confusion_matrix, ConfusionMatrixDisplay\n",
    "import pickle\n",
    "import json\n",
    "from time_series_split import *"
   ]
  },
  {
   "cell_type": "code",
   "execution_count": null,
   "id": "1b13ce50",
   "metadata": {},
   "outputs": [],
   "source": [
    "def calculate_aqi(pm25):\n",
    "    ranges = [\n",
    "        (0.0, 12.0, 0, 50),\n",
    "        (12.1, 35.4, 51, 100),\n",
    "        (35.5, 55.4, 101, 150),\n",
    "        (55.5, 150.4, 151, 200),\n",
    "        (150.5, 250.4, 201, 300),\n",
    "        (250.5, 500.0, 301, 500),\n",
    "    ]\n",
    "    for c_low, c_high, aqi_low, aqi_high in ranges:\n",
    "        if c_low <= pm25 <= c_high:\n",
    "            return round((aqi_high - aqi_low) / (c_high - c_low) * (pm25 - c_low) + aqi_low)\n",
    "    return 500  # default nếu vượt ngưỡng\n",
    "\n",
    "def aqi_class(aqi):\n",
    "    if aqi <= 50: return 0\n",
    "    elif aqi <= 100: return 1\n",
    "    elif aqi <= 150: return 2\n",
    "    elif aqi <= 200: return 3\n",
    "    elif aqi <= 300: return 4\n",
    "    else: return 5"
   ]
  },
  {
   "cell_type": "code",
   "execution_count": null,
   "id": "c5fd8513",
   "metadata": {},
   "outputs": [],
   "source": [
    "combined_data = pd.read_csv('/home/thu/INT3041E_AI_PM2.5-Concentration-Estimation/data/add_AQI.csv')\n",
    "combined_data['AQI'] = combined_data['pm25'].apply(calculate_aqi)\n",
    "combined_data['AQI_Class'] = combined_data['AQI'].apply(aqi_class)"
   ]
  },
  {
   "cell_type": "code",
   "execution_count": null,
   "id": "7c816ec2",
   "metadata": {},
   "outputs": [],
   "source": [
    "combined_data.head()"
   ]
  },
  {
   "cell_type": "code",
   "execution_count": null,
   "id": "fe5a324c",
   "metadata": {},
   "outputs": [],
   "source": [
    "# folds = split_original_data()\n",
    "folds = split_consolidated_data()\n",
    "print(f\"Number of folds: {len(folds)}\")"
   ]
  },
  {
   "cell_type": "code",
   "execution_count": null,
   "id": "2f0b9627",
   "metadata": {},
   "outputs": [],
   "source": [
    "fold = folds[0]\n",
    "train_data = fold['train']\n",
    "val_data = fold['validation']\n",
    "test_data = fold['test']"
   ]
  },
  {
   "cell_type": "code",
   "execution_count": null,
   "id": "5192f4ef",
   "metadata": {},
   "outputs": [],
   "source": [
    "# Chuẩn bị features và target từ các DataFrame\n",
    "# Features: Loại trừ pm25, AQI, AQI_Class (tương tự cột 2 đến -2 trong combined_data)\n",
    "feature_columns = train_data.columns[3:-2]  # Từ cột 3 (lat) đến cột -2 (AAI)\n",
    "\n",
    "X_train = train_data[feature_columns]\n",
    "y_train = train_data['AQI_Class']\n",
    "\n",
    "X_val = val_data[feature_columns]\n",
    "y_val = val_data['AQI_Class']\n",
    "\n",
    "X_test = test_data[feature_columns]\n",
    "y_test = test_data['AQI_Class']"
   ]
  },
  {
   "cell_type": "code",
   "execution_count": null,
   "id": "c5794d48",
   "metadata": {},
   "outputs": [],
   "source": [
    "feature_columns"
   ]
  },
  {
   "cell_type": "code",
   "execution_count": null,
   "id": "ba059ad0",
   "metadata": {},
   "outputs": [],
   "source": [
    "from imblearn.over_sampling import SMOTE\n",
    "\n",
    "smote = SMOTE(random_state=42) \n",
    "X_train, y_train = smote.fit_resample(X_train, y_train)"
   ]
  },
  {
   "cell_type": "code",
   "execution_count": null,
   "id": "b852f8e4",
   "metadata": {},
   "outputs": [],
   "source": [
    "print(f\"X_train shape: {X_train.shape}, y_train shape: {y_train.shape}\")\n",
    "print(f\"X_val shape: {X_val.shape}, y_val shape: {y_val.shape}\")\n",
    "print(f\"X_test shape: {X_test.shape}, y_test shape: {y_test.shape}\")"
   ]
  },
  {
   "cell_type": "markdown",
   "id": "ebb8b83b",
   "metadata": {},
   "source": [
    "## Tuning parameters"
   ]
  },
  {
   "cell_type": "code",
   "execution_count": null,
   "id": "b28f17c5",
   "metadata": {},
   "outputs": [],
   "source": [
    "strat_kfold = StratifiedKFold(n_splits=5, shuffle=True, random_state=43)"
   ]
  },
  {
   "cell_type": "markdown",
   "id": "87fc9c74",
   "metadata": {},
   "source": [
    "**RandomForest**"
   ]
  },
  {
   "cell_type": "markdown",
   "id": "935b9d05",
   "metadata": {},
   "source": [
    "n_estimators: Tăng phạm vi từ 100-1200 lên 100-1500 và thêm nhiều giá trị hơn.\n",
    "max_features: Thêm giá trị None để thử nghiệm sử dụng toàn bộ các feature.\n",
    "max_depth: Tăng phạm vi từ 5-30 lên 5-50 và thêm giá trị None để không giới hạn độ sâu.\n",
    "min_samples_split: Thêm giá trị 15 để thử nghiệm với các tập dữ liệu lớn hơn.\n",
    "min_samples_leaf: Thêm giá trị 8 để kiểm tra các cây có lá lớn hơn.\n",
    "bootstrap: Thêm tham số này để thử nghiệm với cả hai chế độ bootstrap (True và False).\n",
    "n_iter: Tăng số lần thử nghiệm từ 50 lên 100 để cải thiện khả năng tìm kiếm."
   ]
  },
  {
   "cell_type": "code",
   "execution_count": null,
   "id": "00a3e08a",
   "metadata": {},
   "outputs": [],
   "source": [
    "rf_params = {\n",
    "    'n_estimators': [int(x) for x in np.linspace(100, 1500, 15)],  # Tăng phạm vi n_estimators\n",
    "    'max_features': ['sqrt', 'log2', None],  # Thêm None để thử toàn bộ các feature\n",
    "    'max_depth': [int(x) for x in np.linspace(5, 50, 10)] + [None],  # Thêm None để không giới hạn độ sâu\n",
    "    'min_samples_split': [2, 5, 10, 16],  \n",
    "    'min_samples_leaf': [1, 2, 4, 8],  \n",
    "    'bootstrap': [True, False]  # Thêm lựa chọn bootstrap\n",
    "}\n",
    "\n",
    "rf_model = RandomForestClassifier(random_state=43, class_weight='balanced')\n",
    "rf_search = RandomizedSearchCV(\n",
    "    rf_model, \n",
    "    rf_params, \n",
    "    cv=strat_kfold, \n",
    "    scoring='accuracy', \n",
    "    n_iter=100,  # Tăng số lần thử nghiệm\n",
    "    n_jobs=-1, \n",
    "    random_state=43\n",
    ")\n",
    "rf_search.fit(X_train, y_train)\n",
    "rf_val_acc = rf_search.score(X_val, y_val)"
   ]
  },
  {
   "cell_type": "code",
   "execution_count": null,
   "id": "f6dc0d3c",
   "metadata": {},
   "outputs": [],
   "source": [
    "all_labels = [0, 1, 2, 3, 4, 5]\n",
    "target_names = ['Good', 'Moderate', 'Unhealthy for Sensitive', 'Unhealthy', 'Very Unhealthy', 'Hazardous']\n",
    "\n",
    "cm = confusion_matrix(y_test, pred, labels=all_labels)\n",
    "disp = ConfusionMatrixDisplay(confusion_matrix=cm, display_labels=target_names)\n",
    "disp.plot(xticks_rotation=45)\n",
    "plt.title(f'{best_model_name} - Confusion Matrix')\n",
    "plt.show()"
   ]
  },
  {
   "cell_type": "code",
   "execution_count": null,
   "id": "53a847c1",
   "metadata": {},
   "outputs": [],
   "source": [
    "print(f\"Test Accuracy: {metrics.accuracy_score(y_test, pred):.4f}\")\n",
    "print(\"Classification Report (Test Set):\")\n",
    "print(metrics.classification_report(y_test, pred, labels=all_labels, target_names=target_names, zero_division=1))"
   ]
  },
  {
   "cell_type": "code",
   "execution_count": null,
   "metadata": {},
   "outputs": [],
   "source": [
    "# Feature Importance (nếu hỗ trợ)\n",
    "try:\n",
    "    importances = best_clf.feature_importances_\n",
    "    indices = np.argsort(importances)[::-1]\n",
    "    plt.figure(figsize=(10, 6))\n",
    "    sns.barplot(x=importances[indices], y=X_train.columns[indices])\n",
    "    plt.title(f'{best_model_name} - Feature Importances')\n",
    "    plt.xlabel('Importance Score')\n",
    "    plt.ylabel('Features')\n",
    "    plt.tight_layout()\n",
    "    plt.show()\n",
    "except:\n",
    "    print(\"This model does not support feature_importances_.\")"
   ]
  },
  {
   "cell_type": "code",
   "execution_count": null,
   "id": "3e464b6a",
   "metadata": {},
   "outputs": [],
   "source": [
    "# Lưu model & metadata\n",
    "\n",
    "pickle.dump(best_clf, open(f'{best_model_name.lower()}-classifier-tuning.pkl', 'wb'))\n",
    "metadata = {\n",
    "    \"model_name\": best_model_name,\n",
    "    \"best_params\": best_search.best_params_,\n",
    "    \"val_accuracy\": best_val_acc,\n",
    "    \"test_accuracy\": metrics.accuracy_score(y_test, pred),\n",
    "    \"features\": list(feature_columns),\n",
    "    \"classes\": sorted(list(set(y_train)))\n",
    "}\n",
    "with open(f\"{best_model_name.lower()}_metadata.json\", \"w\") as f:\n",
    "    json.dump(metadata, f, indent=4)"
   ]
  }
 ],
 "metadata": {
  "kernelspec": {
   "display_name": "base",
   "language": "python",
   "name": "python3"
  },
  "language_info": {
   "codemirror_mode": {
    "name": "ipython",
    "version": 3
   },
   "file_extension": ".py",
   "mimetype": "text/x-python",
   "name": "python",
   "nbconvert_exporter": "python",
   "pygments_lexer": "ipython3",
   "version": "3.12.9"
  }
 },
 "nbformat": 4,
 "nbformat_minor": 5
}
