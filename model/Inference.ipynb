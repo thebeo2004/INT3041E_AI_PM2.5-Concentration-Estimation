{
 "cells": [
  {
   "cell_type": "code",
   "execution_count": 1,
   "id": "5efef915",
   "metadata": {},
   "outputs": [
    {
     "name": "stderr",
     "output_type": "stream",
     "text": [
      "/home/thu/miniconda3/envs/pycaret/lib/python3.6/site-packages/pycaret/loggers/mlflow_logger.py:14: FutureWarning: MLflow support for Python 3.6 is deprecated and will be dropped in an upcoming release. At that point, existing Python 3.6 workflows that use MLflow will continue to work without modification, but Python 3.6 users will no longer get access to the latest MLflow features and bugfixes. We recommend that you upgrade to Python 3.7 or newer.\n",
      "  import mlflow\n"
     ]
    }
   ],
   "source": [
    "# check version\n",
    "from pycaret.utils import version\n",
    "version()\n",
    "\n",
    "import os\n",
    "import pandas as pd\n",
    "\n",
    "from pycaret.classification import *\n"
   ]
  },
  {
   "cell_type": "code",
   "execution_count": 2,
   "id": "c71a786a",
   "metadata": {},
   "outputs": [
    {
     "name": "stdout",
     "output_type": "stream",
     "text": [
      "Transformation Pipeline and Model Successfully Loaded\n"
     ]
    }
   ],
   "source": [
    "loaded_bestmodel = load_model('best-model-rf')\n",
    "\n",
    "root = \"/home/thu/INT3041E_AI_PM2.5-Concentration-Estimation/data\""
   ]
  },
  {
   "cell_type": "code",
   "execution_count": null,
   "id": "275f5edc",
   "metadata": {},
   "outputs": [],
   "source": [
    "# Iterate through all CSV files in the feature_map folder\n",
    "feature_map_dir = os.path.join(root, \"feature_map\")\n",
    "infer_dir = os.path.join(root, \"infer\")\n",
    "os.makedirs(infer_dir, exist_ok=True)  # Ensure the infer directory exists"
   ]
  },
  {
   "cell_type": "code",
   "execution_count": null,
   "id": "fce7bb06",
   "metadata": {},
   "outputs": [],
   "source": [
    "for file in os.listdir(feature_map_dir):\n",
    "    if file.endswith(\".csv\"):\n",
    "        name_file = os.path.splitext(file)[0]  # Get the file name without extension\n",
    "        file_path = os.path.join(feature_map_dir, file)\n",
    "\n",
    "        # Read the CSV file\n",
    "        test_full = pd.read_csv(file_path)\n",
    "        data = test_full.drop(columns=['time'], errors='ignore')  # Drop 'time' column if it exists\n",
    "\n",
    "        # Copy data for predictions\n",
    "        test_data = data.copy()\n",
    "\n",
    "        # Predict on the test data\n",
    "        predictions = predict_model(loaded_bestmodel, data=test_data)\n",
    "\n",
    "        # Add predicted labels and scores to the original dataframe\n",
    "        test_full['Predicted_Label'] = predictions['Label']\n",
    "        test_full['Score'] = predictions['Score']\n",
    "\n",
    "        # Save the updated dataframe to a new CSV file\n",
    "        output_path = os.path.join(infer_dir, f\"{name_file}.csv\")\n",
    "        test_full.to_csv(output_path, index=False)"
   ]
  }
 ],
 "metadata": {
  "kernelspec": {
   "display_name": "pycaret",
   "language": "python",
   "name": "python3"
  },
  "language_info": {
   "codemirror_mode": {
    "name": "ipython",
    "version": 3
   },
   "file_extension": ".py",
   "mimetype": "text/x-python",
   "name": "python",
   "nbconvert_exporter": "python",
   "pygments_lexer": "ipython3",
   "version": "3.6.13"
  }
 },
 "nbformat": 4,
 "nbformat_minor": 5
}
